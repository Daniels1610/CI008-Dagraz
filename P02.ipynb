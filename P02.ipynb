{
 "cells": [
  {
   "cell_type": "markdown",
   "metadata": {},
   "source": [
    "## P02: Degrees of Separation (BFS)"
   ]
  },
  {
   "cell_type": "code",
   "execution_count": 21,
   "metadata": {},
   "outputs": [],
   "source": [
    "from classes.Queue import Queue\n",
    "from classes.Color import Color\n",
    "import pandas as pd\n",
    "import numpy as np\n",
    "\n",
    "CINEMAR_DIR = \"datasets/\""
   ]
  },
  {
   "cell_type": "code",
   "execution_count": 22,
   "metadata": {},
   "outputs": [],
   "source": [
    "class CinemaDataset():\n",
    "    people: np.ndarray\n",
    "    movie: np.ndarray\n",
    "    stars: np.ndarray\n",
    "\n",
    "    def __init__(self, size:str):\n",
    "        self.people = pd.read_csv(f\"{CINEMAR_DIR}{size.lower()}/people.csv\").to_numpy()\n",
    "        self.movie = pd.read_csv(f\"{CINEMAR_DIR}{size.lower()}/movies.csv\").to_numpy()\n",
    "        self.stars = pd.read_csv(f\"{CINEMAR_DIR}{size.lower()}/stars.csv\").to_numpy()"
   ]
  },
  {
   "cell_type": "code",
   "execution_count": 32,
   "metadata": {},
   "outputs": [],
   "source": [
    "size = input(\"Select dataset size (small/large):\")\n",
    "data = CinemaDataset(size)"
   ]
  },
  {
   "cell_type": "code",
   "execution_count": 33,
   "metadata": {},
   "outputs": [
    {
     "name": "stdout",
     "output_type": "stream",
     "text": [
      "PEOPLE SHAPE: (1044499, 3)\n",
      "MOVIE SHAPE: (344276, 3)\n",
      "STARS SHAPE: (1189594, 2)\n"
     ]
    }
   ],
   "source": [
    "print(f\"PEOPLE SHAPE: {data.people.shape}\")\n",
    "print(f\"MOVIE SHAPE: {data.movie.shape}\")\n",
    "print(f\"STARS SHAPE: {data.stars.shape}\")"
   ]
  },
  {
   "cell_type": "code",
   "execution_count": 25,
   "metadata": {},
   "outputs": [],
   "source": [
    "# This two actors supposedly have 2 Degrees of Separation\n",
    "name1, name2 = \"Robin Wright\", \"Bill Paxton\""
   ]
  },
  {
   "cell_type": "code",
   "execution_count": 7,
   "metadata": {},
   "outputs": [
    {
     "name": "stdout",
     "output_type": "stream",
     "text": [
      "Name1's PeopleID: 200\n",
      "Name2's PeopleID: 705\n"
     ]
    },
    {
     "data": {
      "text/plain": [
       "705"
      ]
     },
     "execution_count": 7,
     "metadata": {},
     "output_type": "execute_result"
    }
   ],
   "source": [
    "# Get Actor/Actress PeopleID\n",
    "mask = np.isin(element=data.people[:,1], test_elements=np.array([name1, name2]))\n",
    "name1_ID, name2_ID = data.people[mask][0,0], data.people[mask][1,0]\n",
    "print(f\"Name1's PeopleID: {name1_ID}\")\n",
    "print(f\"Name2's PeopleID: {name2_ID}\")\n",
    "\n",
    "a = np.isin(element=data.people[:,1], test_elements=np.array([name1]))\n",
    "data.people[a][0,:][0]"
   ]
  },
  {
   "cell_type": "code",
   "execution_count": 8,
   "metadata": {},
   "outputs": [
    {
     "name": "stdout",
     "output_type": "stream",
     "text": [
      "Movie's ID from PeopleID #2:\n",
      "[112384]\n",
      "[102, 158, 200, 641]\n"
     ]
    },
    {
     "data": {
      "text/plain": [
       "array([[102, 'Kevin Bacon', 1958],\n",
       "       [158, 'Tom Hanks', 1956],\n",
       "       [200, 'Bill Paxton', 1955],\n",
       "       [641, 'Gary Sinise', 1955]], dtype=object)"
      ]
     },
     "execution_count": 8,
     "metadata": {},
     "output_type": "execute_result"
    }
   ],
   "source": [
    "# Get Actor/Actress Movies given its PeopleID\n",
    "movies_index = np.where(data.stars[:,0] == name1_ID)[0].flatten()\n",
    "movies = data.stars[movies_index,1]\n",
    "print(f\"Movie's ID from PeopleID #2:\\n{movies}\")\n",
    "\n",
    "# Get Actors/Actresses from Name2_ID's Movies\n",
    "movies_idx = np.where(data.stars[:,1] == movies[0])[0].flatten()\n",
    "costars_id = [data.stars[idx,0] for idx in movies_idx]\n",
    "print(costars_id)\n",
    "\n",
    "mask = np.isin(element=data.people[:,0], test_elements=costars_id)\n",
    "costars_records = data.people[mask]\n",
    "costars_records"
   ]
  },
  {
   "cell_type": "code",
   "execution_count": 34,
   "metadata": {},
   "outputs": [],
   "source": [
    "def degrees_of_separation(Q: Queue, name1: str, name2: str, data:CinemaDataset):\n",
    "    # Dict that holds graph information\n",
    "    ds = {\n",
    "        'status': False,                    # Tells whether target_x has a solution\n",
    "        'came_from': {},                    # Keeps track of shortest path's nodes\n",
    "        'cost_so_far': {},                  # Stores node's C(x) \n",
    "        'iterations':0,                     # Iterations passed until shortest path is found\n",
    "        'visited_m':[],                     # Stores visited movies\n",
    "        'shortest_path': [],                # Node-by-node path to shortest route\n",
    "        'degrees': 0}                       # Degrees of Separations\n",
    "\n",
    "    # Get Actor's PeopleID\n",
    "    mask = np.isin(element=data.people[:,1], test_elements=np.array([name1, name2]))\n",
    "    init_x, target_x = data.people[mask][0,0], data.people[mask][1,0]\n",
    "\n",
    "    # BFS Start\n",
    "    ds['came_from'][init_x] = None; ds['cost_so_far'][init_x] = 0\n",
    "    Q.insert(init_x)\n",
    "\n",
    "    while Q.size() != 0:\n",
    "        # Gets current state\n",
    "        x = Q.get_first(); ds['iterations'] += 1\n",
    "\n",
    "        if x == target_x:\n",
    "            # Write relevant Dijstra's results to graph dict\n",
    "            ds['degrees'] = ds['cost_so_far'][x]; ds['shortest_path'].append(x); ds['status'] = True\n",
    "            while x != init_x:\n",
    "                prev_x = ds['came_from'][x]\n",
    "                ds['shortest_path'].append(prev_x)\n",
    "                x = prev_x\n",
    "            ds['shortest_path'].reverse()\n",
    "            return ds\n",
    "        \n",
    "        # Get Actor's Movies\n",
    "        movies_index = np.where(data.stars[:,0] == x)[0].flatten()\n",
    "        movies = data.stars[movies_index,1]\n",
    "\n",
    "        for u in movies:\n",
    "            if u in ds['visited_m']: continue\n",
    "            # Get actors from movie\n",
    "            actors_idx = np.where(data.stars[:,1] == u)[0].flatten()\n",
    "            costars_id = [data.stars[idx,0] for idx in actors_idx]; costars_id.remove(x)\n",
    "\n",
    "            for id in costars_id:\n",
    "                ds['came_from'][id] = x\n",
    "                ds['cost_so_far'][id] = ds['cost_so_far'][x] + 1 \n",
    "                Q.insert(id)\n",
    "            ds['visited_m'].append(u)\n",
    "\n",
    "    return ds"
   ]
  },
  {
   "cell_type": "code",
   "execution_count": 37,
   "metadata": {},
   "outputs": [
    {
     "name": "stdout",
     "output_type": "stream",
     "text": [
      "Name 1: Emma Watson\n",
      "Name 2: Jennifer Lawrence\n",
      "Couple of Actors has solution? : \u001b[1m\u001b[92m True\u001b[0m\n",
      "Iterations to find shortest path: \u001b[1m3188\u001b[0m\n",
      "Node-by-Node Path: \u001b[1m914612\u001b[0m\u001b[96m -> \u001b[0m\u001b[1m705356\u001b[0m\u001b[96m -> \u001b[0m\u001b[1m300712\u001b[0m\u001b[96m -> \u001b[0m\u001b[1m662160\u001b[0m\u001b[96m -> \u001b[0m\u001b[1m674781\u001b[0m\u001b[96m -> \u001b[0m\u001b[1m602\u001b[0m\u001b[96m -> \u001b[0m\u001b[1m329\u001b[0m\u001b[96m -> \u001b[0m\u001b[1m424216\u001b[0m\u001b[96m -> \u001b[0m\u001b[1m1275259\u001b[0m\u001b[96m -> \u001b[0m\u001b[1m1303\u001b[0m\u001b[96m -> \u001b[0m\u001b[1m995\u001b[0m\u001b[96m -> \u001b[0m\u001b[1m197\u001b[0m\u001b[96m -> \u001b[0m\u001b[1m138\u001b[0m\u001b[96m -> \u001b[0m\u001b[1m674782\u001b[0m\u001b[96m -> \u001b[0m\u001b[1m357979\u001b[0m\u001b[96m -> \u001b[0m\u001b[1m1872\u001b[0m\u001b[96m -> \u001b[0m\u001b[1m1721\u001b[0m\u001b[96m -> \u001b[0m\u001b[1m940158\u001b[0m\u001b[96m -> \u001b[0m\u001b[1m2225369\u001b[0m\n",
      "Path Length: \u001b[1m19\u001b[0m\n",
      "Degrees of Separation: \u001b[1m18\u001b[0m\n"
     ]
    }
   ],
   "source": [
    "p1 = input(\"Enter actor/actress Name 1: \")\n",
    "p2 = input(\"Enter actor/actress Name 2: \")\n",
    "ds = degrees_of_separation(Queue(), p1, p2, data)\n",
    "print(f\"Name 1: {p1}\\nName 2: {p2}\")\n",
    "print(f\"Couple of Actors has solution? : {Color.BOLD}{Color.GREEN if {ds['status']} else Color.RED} {ds['status']}{Color.END}\")\n",
    "print(f\"Iterations to find shortest path: {Color.BOLD}{ds['iterations']}{Color.END}\")\n",
    "print(f\"Node-by-Node Path: {f'{Color.CYAN} -> {Color.END}'.join([f'{Color.BOLD}{x}{Color.END}' for x in ds['shortest_path']])}\")\n",
    "print(f\"Path Length: {Color.BOLD}{len(ds['shortest_path'])}{Color.END}\")\n",
    "print(f\"Degrees of Separation: {Color.BOLD}{ds['degrees']}{Color.END}\")"
   ]
  }
 ],
 "metadata": {
  "kernelspec": {
   "display_name": "venv",
   "language": "python",
   "name": "python3"
  },
  "language_info": {
   "codemirror_mode": {
    "name": "ipython",
    "version": 3
   },
   "file_extension": ".py",
   "mimetype": "text/x-python",
   "name": "python",
   "nbconvert_exporter": "python",
   "pygments_lexer": "ipython3",
   "version": "3.11.5"
  }
 },
 "nbformat": 4,
 "nbformat_minor": 2
}
