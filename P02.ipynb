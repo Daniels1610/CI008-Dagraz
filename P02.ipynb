{
 "cells": [
  {
   "cell_type": "markdown",
   "metadata": {},
   "source": [
    "## **P02: Degrees of Separation (BFS)**\n",
    "*Tijuana, B.C. | 26 MAR 2024*\n",
    "\n",
    "*Presenta:*\n",
    "- Agraz Vallejo Daniel\n",
    "- Cruz Jimenez Axel\n",
    "- Roldan Machado David"
   ]
  },
  {
   "cell_type": "code",
   "execution_count": 11,
   "metadata": {},
   "outputs": [],
   "source": [
    "from classes.Queue import Queue\n",
    "from classes.Color import Color\n",
    "import pandas as pd\n",
    "import numpy as np\n",
    "\n",
    "CINEMA_DIR = \"datasets/\""
   ]
  },
  {
   "cell_type": "markdown",
   "metadata": {},
   "source": [
    "#### **Dataset Loader:** CinemaDataset"
   ]
  },
  {
   "cell_type": "code",
   "execution_count": 13,
   "metadata": {},
   "outputs": [],
   "source": [
    "class CinemaDataset():\n",
    "    people: np.ndarray\n",
    "    movie: np.ndarray\n",
    "    stars: np.ndarray\n",
    "\n",
    "    def __init__(self, size:str):\n",
    "        self.people = pd.read_csv(f\"{CINEMA_DIR}{size.lower()}/people.csv\").to_numpy()\n",
    "        self.movie = pd.read_csv(f\"{CINEMA_DIR}{size.lower()}/movies.csv\").to_numpy()\n",
    "        self.stars = pd.read_csv(f\"{CINEMA_DIR}{size.lower()}/stars.csv\").to_numpy()\n",
    "\n",
    "    # Gets Movie Record by ID\n",
    "    def get_movie(self, id:int) -> np.ndarray:\n",
    "        mask = np.isin(element=self.movie[:,0], test_elements=id)\n",
    "        return self.movie[mask].flatten()\n",
    "    \n",
    "        # Gets Actor Record by ID\n",
    "    def get_actor(self, id:int) -> np.ndarray:\n",
    "        mask = np.isin(element=self.people[:,0], test_elements=id)\n",
    "        return self.people[mask].flatten()\n",
    "        "
   ]
  },
  {
   "cell_type": "markdown",
   "metadata": {},
   "source": [
    "#### **Load Actors/Movies Dataset**"
   ]
  },
  {
   "cell_type": "code",
   "execution_count": 14,
   "metadata": {},
   "outputs": [],
   "source": [
    "size = input(\"Select dataset size (small/large):\")\n",
    "data = CinemaDataset(size)"
   ]
  },
  {
   "cell_type": "code",
   "execution_count": 15,
   "metadata": {},
   "outputs": [
    {
     "name": "stdout",
     "output_type": "stream",
     "text": [
      "PEOPLE SHAPE: (1044499, 3)\n",
      "MOVIE SHAPE: (344276, 3)\n",
      "STARS SHAPE: (1189594, 2)\n"
     ]
    }
   ],
   "source": [
    "print(f\"PEOPLE SHAPE: {data.people.shape}\")\n",
    "print(f\"MOVIE SHAPE: {data.movie.shape}\")\n",
    "print(f\"STARS SHAPE: {data.stars.shape}\")"
   ]
  },
  {
   "cell_type": "markdown",
   "metadata": {},
   "source": [
    "#### **POC:** Get Actor/Movie record by ID"
   ]
  },
  {
   "cell_type": "code",
   "execution_count": 13,
   "metadata": {},
   "outputs": [],
   "source": [
    "# This two actors supposedly have 2 Degrees of Separation\n",
    "name1, name2 = \"Emma Watson\", \"Jennifer Lawrence\""
   ]
  },
  {
   "cell_type": "code",
   "execution_count": 14,
   "metadata": {},
   "outputs": [
    {
     "name": "stdout",
     "output_type": "stream",
     "text": [
      "Name1's PeopleID: 705356\n",
      "Name2's PeopleID: 2225369\n"
     ]
    },
    {
     "data": {
      "text/plain": [
       "705356"
      ]
     },
     "execution_count": 14,
     "metadata": {},
     "output_type": "execute_result"
    }
   ],
   "source": [
    "# Get Actor/Actress PeopleID\n",
    "mask = np.isin(element=data.people[:,1], test_elements=np.array([name1, name2]))\n",
    "name1_ID, name2_ID = data.people[mask][0,0], data.people[mask][1,0]\n",
    "print(f\"Name1's PeopleID: {name1_ID}\")\n",
    "print(f\"Name2's PeopleID: {name2_ID}\")"
   ]
  },
  {
   "cell_type": "code",
   "execution_count": 15,
   "metadata": {},
   "outputs": [
    {
     "name": "stdout",
     "output_type": "stream",
     "text": [
      "Movie's ID from PeopleID:\n",
      "[ 241527  295297  304141  330373  373889  417741  465436  926084 1201607\n",
      " 1311071 1486834 1528071 1596365 1781796 1976009 3758172 4034354 4199898\n",
      " 4781612 6170506 6338476 6845728 6902676]\n",
      "[705356, 342488, 1321, 1749]\n"
     ]
    },
    {
     "data": {
      "text/plain": [
       "array([[1321, 'Richard Harris', 1930.0],\n",
       "       [1749, 'Maggie Smith', 1934.0],\n",
       "       [342488, 'Rupert Grint', 1988.0],\n",
       "       [705356, 'Daniel Radcliffe', 1989.0]], dtype=object)"
      ]
     },
     "execution_count": 15,
     "metadata": {},
     "output_type": "execute_result"
    }
   ],
   "source": [
    "# Get Actor/Actress Movies given its PeopleID\n",
    "movies_index = np.where(data.stars[:,0] == name1_ID)[0].flatten()\n",
    "movies = data.stars[movies_index,1]\n",
    "print(f\"Movie's ID from PeopleID:\\n{movies}\")\n",
    "\n",
    "# Get Actors/Actresses from Name2_ID's Movies\n",
    "movies_idx = np.where(data.stars[:,1] == movies[0])[0].flatten()\n",
    "costars_id = [data.stars[idx,0] for idx in movies_idx]\n",
    "print(costars_id)\n",
    "\n",
    "mask = np.isin(element=data.people[:,0], test_elements=costars_id)\n",
    "costars_records = data.people[mask]\n",
    "costars_records"
   ]
  },
  {
   "cell_type": "markdown",
   "metadata": {},
   "source": [
    "#### **Degrees of Separation Algorithm:** (Dijkstra's Inspired)"
   ]
  },
  {
   "cell_type": "code",
   "execution_count": 16,
   "metadata": {},
   "outputs": [],
   "source": [
    "def degrees_of_separation(Q: Queue, name1: str, name2: str, data:CinemaDataset):\n",
    "    # Dict that holds graph information\n",
    "    ds = {\n",
    "        'status': False,                    # Tells whether target_x has a solution\n",
    "        'came_from': {},                    # Keeps track of shortest path's nodes\n",
    "        'cost_so_far': {},                  # Stores node's C(x) \n",
    "        'iterations':0,                     # Iterations passed until shortest path is found\n",
    "        'visited_m':[],                     # Stores visited movies\n",
    "        'visited_x':[],                     # Stores visited actors\n",
    "        'sentences':[],                     # Stores actor and movie association statements\n",
    "        'shortest_path': [],                # Node-by-node path to shortest route\n",
    "        'degrees': 0}                       # Degrees of Separations\n",
    "\n",
    "    # Get Actor's PeopleID\n",
    "    mask = np.isin(element=data.people[:,1], test_elements=np.array([name1, name2]))\n",
    "    init_x, target_x = data.people[mask][0,0], data.people[mask][1,0]\n",
    "\n",
    "    # BFS Start\n",
    "    ds['came_from'][init_x] = None; ds['cost_so_far'][init_x] = 0\n",
    "    Q.insert(init_x)\n",
    "\n",
    "    while Q.size() != 0:\n",
    "        # Gets current state\n",
    "        x = Q.get_first(); ds['iterations'] += 1\n",
    "\n",
    "        if x == target_x:\n",
    "            # Write relevant results to graph dict\n",
    "            ds['degrees'] = ds['cost_so_far'][x]; ds['shortest_path'].append(x); ds['status'] = True\n",
    "            while x != init_x:\n",
    "                prev_x = ds['came_from'][x][0]\n",
    "                ds['shortest_path'].append(prev_x)\n",
    "                ds['sentences'].append(f\"{Color.BOLD}{data.get_actor(prev_x)[1]}{Color.END} and {Color.BOLD}{data.get_actor(x)[1]}{Color.END} starred in {Color.CYAN}{data.get_movie(ds['came_from'][x][1])[1]}{Color.END}\")\n",
    "                x = prev_x\n",
    "            ds['shortest_path'].reverse(); ds['sentences'].reverse()\n",
    "            return ds\n",
    "        \n",
    "        # Get Actor's Movies\n",
    "        movies_index = np.where(data.stars[:,0] == x)[0].flatten()\n",
    "        movies = data.stars[movies_index,1]\n",
    "\n",
    "        for u in movies:\n",
    "            if u in ds['visited_m']: continue\n",
    "            # Get actors from movie\n",
    "            actors_idx = np.where(data.stars[:,1] == u)[0].flatten()\n",
    "            costars_id = [data.stars[idx,0] for idx in actors_idx]; costars_id.remove(x)\n",
    "\n",
    "            for id in costars_id:\n",
    "                if id in ds['visited_x']: continue\n",
    "                ds['came_from'][id] = [x, u]\n",
    "                ds['cost_so_far'][id] = ds['cost_so_far'][x] + 1 \n",
    "                ds['visited_x'].append(id)\n",
    "                Q.insert(id)\n",
    "            ds['visited_m'].append(u)\n",
    "\n",
    "    return ds"
   ]
  },
  {
   "cell_type": "markdown",
   "metadata": {},
   "source": [
    "#### **Actors Input**"
   ]
  },
  {
   "cell_type": "code",
   "execution_count": 25,
   "metadata": {},
   "outputs": [],
   "source": [
    "p1 = input(\"Enter actor/actress Name 1: \")\n",
    "p2 = input(\"Enter actor/actress Name 2: \")"
   ]
  },
  {
   "cell_type": "code",
   "execution_count": 27,
   "metadata": {},
   "outputs": [],
   "source": [
    "# Actors Random Selection\n",
    "a = data.people[np.random.choice(data.people.shape[0], size=2, replace=False), :]\n",
    "p1 = a[0,:][1]\n",
    "p2 = a[1,:][1]"
   ]
  },
  {
   "cell_type": "markdown",
   "metadata": {},
   "source": [
    "#### **Results:** Degrees of Separation"
   ]
  },
  {
   "cell_type": "code",
   "execution_count": 26,
   "metadata": {},
   "outputs": [
    {
     "name": "stdout",
     "output_type": "stream",
     "text": [
      "Name 1: Julianna Margulies\n",
      "Name 2: Dario Russo\n",
      "Couple of Actors has solution? : \u001b[1m\u001b[91m False\u001b[0m\n",
      "Iterations to find shortest path: \u001b[1m377671\u001b[0m\n",
      "\n",
      "Node-by-Node Path: \n",
      "\n",
      "Path Length: \u001b[1m0\u001b[0m\n",
      "Degrees of Separation: \u001b[1m0\u001b[0m\n"
     ]
    }
   ],
   "source": [
    "# a = data.people[np.random.choice(data.people.shape[0], size=2, replace=False), :]\n",
    "# p1 = a[0,:][1]\n",
    "# p2 = a[1,:][1]\n",
    "\n",
    "ds = degrees_of_separation(Queue(), p1, p2, data)\n",
    "print(f\"Name 1: {p1}\\nName 2: {p2}\")\n",
    "print(f\"Couple of Actors has solution? : {Color.BOLD}{Color.GREEN if ds['status'] else Color.RED} {ds['status']}{Color.END}\")\n",
    "print(f\"Iterations to find shortest path: {Color.BOLD}{ds['iterations']}{Color.END}\\n\")\n",
    "print(f\"Node-by-Node Path: {f'{Color.CYAN}{Color.BOLD} -> {Color.END}'.join([f'{Color.BOLD}{x}{Color.END}' for x in ds['shortest_path']])}\")\n",
    "for s in ds['sentences']: print(s)\n",
    "print(f\"\\nPath Length: {Color.BOLD}{len(ds['shortest_path'])}{Color.END}\")\n",
    "print(f\"Degrees of Separation: {Color.BOLD}{ds['degrees']}{Color.END}\")"
   ]
  }
 ],
 "metadata": {
  "kernelspec": {
   "display_name": "venv",
   "language": "python",
   "name": "python3"
  },
  "language_info": {
   "codemirror_mode": {
    "name": "ipython",
    "version": 3
   },
   "file_extension": ".py",
   "mimetype": "text/x-python",
   "name": "python",
   "nbconvert_exporter": "python",
   "pygments_lexer": "ipython3",
   "version": "3.11.5"
  }
 },
 "nbformat": 4,
 "nbformat_minor": 2
}
