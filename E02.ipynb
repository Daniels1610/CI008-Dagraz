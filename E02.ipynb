{
 "cells": [
  {
   "cell_type": "markdown",
   "metadata": {},
   "source": [
    "## E02 : Adversarial Search (Minimax)"
   ]
  },
  {
   "cell_type": "code",
   "execution_count": 6,
   "metadata": {},
   "outputs": [],
   "source": [
    "import numpy as np\n",
    "import math"
   ]
  },
  {
   "cell_type": "markdown",
   "metadata": {},
   "source": [
    "#### **2.03:** Implement Minimax Algorithm"
   ]
  },
  {
   "cell_type": "code",
   "execution_count": 44,
   "metadata": {},
   "outputs": [
    {
     "name": "stdout",
     "output_type": "stream",
     "text": [
      "Test Input #0\n",
      "3\n",
      "\n",
      "Test Input #1\n",
      "12\n",
      "\n",
      "Test Input #2\n",
      "4\n",
      "\n"
     ]
    }
   ],
   "source": [
    "inputs = [[3,5,2,9],\n",
    "        [3,5,2,9,12,5,23,23],\n",
    "        [-1,4,2,6,-3,-5,0,7]]\n",
    "\n",
    "def pairwise(iterable):\n",
    "    a = iter(iterable)\n",
    "    return zip(a, a)\n",
    "\n",
    "def minimax(terminals:np.ndarray) -> np.int32:\n",
    "    levels = int(np.log2(len(terminals)))\n",
    "    if levels == 1: return np.max(terminals)\n",
    "    elif levels % 2 == 0:\n",
    "        return minimax(np.array([np.minimum(a,b) for a,b in pairwise(terminals)]))\n",
    "    else:\n",
    "        return minimax(np.array([np.maximum(a,b) for a,b in pairwise(terminals)]))\n",
    "\n",
    "if __name__ == \"__main__\":\n",
    "    for i in range(len(inputs)):\n",
    "        print(f\"Test Input #{i}\")\n",
    "        print(f\"{minimax(inputs[i])}\\n\")"
   ]
  }
 ],
 "metadata": {
  "kernelspec": {
   "display_name": "venv",
   "language": "python",
   "name": "python3"
  },
  "language_info": {
   "codemirror_mode": {
    "name": "ipython",
    "version": 3
   },
   "file_extension": ".py",
   "mimetype": "text/x-python",
   "name": "python",
   "nbconvert_exporter": "python",
   "pygments_lexer": "ipython3",
   "version": "3.11.5"
  }
 },
 "nbformat": 4,
 "nbformat_minor": 2
}
