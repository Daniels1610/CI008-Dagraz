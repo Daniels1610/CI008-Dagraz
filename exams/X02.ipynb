{
 "cells": [
  {
   "cell_type": "code",
   "execution_count": 2,
   "metadata": {},
   "outputs": [],
   "source": [
    "import math\n",
    "import numpy as np\n",
    "from collections import deque\n",
    "from typing import Union\n",
    "from classes.Queue import Queue"
   ]
  },
  {
   "cell_type": "code",
   "execution_count": 3,
   "metadata": {},
   "outputs": [],
   "source": [
    "def backtracking(root_x, target_x, tree):\n",
    "    Q = Queue()\n",
    "    status = False\n",
    "    visited_x = []\n",
    "    came_from = {}\n",
    "    shortest_path = []\n",
    "    Q.insert(root_x); visited_x.append(root_x)\n",
    "\n",
    "    while Q.size() != 0:\n",
    "        x = Q.get_first()\n",
    "\n",
    "        if x == target_x:\n",
    "            shortest_path.append(x); status = True\n",
    "            while x != root_x: \n",
    "                prev_x = came_from[x]\n",
    "                shortest_path.append(prev_x)\n",
    "                x = prev_x\n",
    "            shortest_path.reverse()\n",
    "            return shortest_path\n",
    "\n",
    "        try:\n",
    "            for node in tree[x]:\n",
    "                if node not in visited_x:\n",
    "                    visited_x.append(node)\n",
    "                    came_from[node] = x\n",
    "                    Q.insert(node)\n",
    "        except KeyError:\n",
    "            parent_x = came_from[x]\n",
    "            x = tree[parent_x][1]\n",
    "\n",
    "    return status"
   ]
  },
  {
   "cell_type": "code",
   "execution_count": 5,
   "metadata": {},
   "outputs": [
    {
     "name": "stdout",
     "output_type": "stream",
     "text": [
      "['A', 'C', 'F', 'M']\n",
      "['A', 'B', 'E', 'K']\n"
     ]
    }
   ],
   "source": [
    "Fig1={'A':['B','C'],\n",
    "      'B':['D','E'],\n",
    "      'C':['F','G'],\n",
    "      'D':['H','I'],\n",
    "      'E':['J','K'],\n",
    "      'F':['L','M'],\n",
    "      'G':['N','O']}\n",
    "\n",
    "#1A)\n",
    "print(backtracking('A', 'M', Fig1))\n",
    "\n",
    "#1B)\n",
    "print(backtracking('A', 'K', Fig1))"
   ]
  }
 ],
 "metadata": {
  "kernelspec": {
   "display_name": "venv",
   "language": "python",
   "name": "python3"
  },
  "language_info": {
   "codemirror_mode": {
    "name": "ipython",
    "version": 3
   },
   "file_extension": ".py",
   "mimetype": "text/x-python",
   "name": "python",
   "nbconvert_exporter": "python",
   "pygments_lexer": "ipython3",
   "version": "3.11.5"
  }
 },
 "nbformat": 4,
 "nbformat_minor": 2
}
