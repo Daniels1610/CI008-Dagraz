{
 "cells": [
  {
   "cell_type": "markdown",
   "metadata": {},
   "source": [
    "## **P02: Degrees of Separation (BFS)**\n",
    "*Tijuana, B.C. | 26 MAR 2024*\n",
    "\n",
    "*Presenta:*\n",
    "- Agraz Vallejo Daniel\n",
    "- Cruz Jimenez Axel\n",
    "- Roldan Machado David"
   ]
  },
  {
   "cell_type": "code",
   "execution_count": 1,
   "metadata": {},
   "outputs": [],
   "source": [
    "import numpy as np\n",
    "from classes.misc.Color import Color\n",
    "from classes.structures.Queue import Queue\n",
    "from classes.misc.Cinema import CinemaDataset"
   ]
  },
  {
   "cell_type": "markdown",
   "metadata": {},
   "source": [
    "#### **Load Actors/Movies Dataset**"
   ]
  },
  {
   "cell_type": "code",
   "execution_count": 2,
   "metadata": {},
   "outputs": [],
   "source": [
    "size = input(\"Select dataset size (small/large):\")\n",
    "data = CinemaDataset(size)"
   ]
  },
  {
   "cell_type": "code",
   "execution_count": 3,
   "metadata": {},
   "outputs": [
    {
     "name": "stdout",
     "output_type": "stream",
     "text": [
      "PEOPLE SHAPE: (1044499, 3)\n",
      "MOVIE SHAPE: (344276, 3)\n",
      "STARS SHAPE: (1189594, 2)\n"
     ]
    }
   ],
   "source": [
    "print(f\"PEOPLE SHAPE: {data.people.shape}\")\n",
    "print(f\"MOVIE SHAPE: {data.movie.shape}\")\n",
    "print(f\"STARS SHAPE: {data.stars.shape}\")"
   ]
  },
  {
   "cell_type": "markdown",
   "metadata": {},
   "source": [
    "#### **POC:** Get Actor/Movie record by ID"
   ]
  },
  {
   "cell_type": "code",
   "execution_count": null,
   "metadata": {},
   "outputs": [],
   "source": [
    "# This two actors supposedly have 2 Degrees of Separation\n",
    "name1, name2 = \"Emma Watson\", \"Jennifer Lawrence\""
   ]
  },
  {
   "cell_type": "code",
   "execution_count": null,
   "metadata": {},
   "outputs": [],
   "source": [
    "# Get Actor/Actress PeopleID\n",
    "mask = np.isin(element=data.people[:,1], test_elements=np.array([name1, name2]))\n",
    "name1_ID, name2_ID = int(data.people[mask][0,0]), int(data.people[mask][1,0])\n",
    "print(f\"{name1} ID: {name1_ID}\")\n",
    "print(f\"{name2} ID: {name2_ID}\")"
   ]
  },
  {
   "cell_type": "code",
   "execution_count": null,
   "metadata": {},
   "outputs": [],
   "source": [
    "# Get Actor/Actress Movies given its PeopleID\n",
    "movies_index = np.where(data.stars[:,0] == name1_ID)[0].flatten()\n",
    "movies = data.stars[movies_index,1]\n",
    "print(f\"Movie's ID from PeopleID:\\n{movies}\\n\")\n",
    "\n",
    "# Get Actors/Actresses from Name2_ID's Movies\n",
    "movies_idx = np.where(data.stars[:,1] == movies[0])[0].flatten()\n",
    "costars_id = [str(data.stars[idx,0]) for idx in movies_idx]\n",
    "print(f\"Costars from Name1's ID:\\n{costars_id}\\n\")\n",
    "\n",
    "mask = np.isin(element=data.people[:,0], test_elements=costars_id)\n",
    "costars_records = data.people[mask]\n",
    "print(f\"Costars Records:\\n{costars_records}\")"
   ]
  },
  {
   "cell_type": "markdown",
   "metadata": {},
   "source": [
    "#### **Degrees of Separation Algorithm:** (Dijkstra's Inspired)"
   ]
  },
  {
   "cell_type": "code",
   "execution_count": 4,
   "metadata": {},
   "outputs": [],
   "source": [
    "def degrees_of_separation(Q: Queue, name1: str, name2: str, data:CinemaDataset) -> dict:\n",
    "    # Dict that holds graph information\n",
    "    ds = {\n",
    "        'status': False,        # Tells whether target_x has a solution\n",
    "        'came_from': {},        # Keeps track of shortest path's nodes\n",
    "        'cost_so_far': {},      # Stores node's C(x)\n",
    "        'iterations':0,         # Iterations passed until shortest path is found\n",
    "        'visited_m':[],         # Stores visited movies\n",
    "        'visited_x':[],         # Stores visited actors\n",
    "        'sentences':[],         # Stores actor and movie association statements\n",
    "        'shortest_path': [],    # Node-by-node path to shortest route\n",
    "        'degrees': 0}           # Degrees of Separations\n",
    "\n",
    "    # Get Actor's PeopleID\n",
    "    mask = np.isin(element=data.people[:,1], test_elements=np.array([name1, name2]))\n",
    "    init_x, target_x = data.people[mask][0,0], data.people[mask][1,0]\n",
    "\n",
    "    # BFS Start\n",
    "    ds['came_from'][init_x] = None; ds['cost_so_far'][init_x] = 0\n",
    "    Q.insert(init_x)\n",
    "\n",
    "    while Q.size() != 0:\n",
    "        # Gets current state\n",
    "        x = Q.get_first(); ds['iterations'] += 1\n",
    "\n",
    "        if x == target_x:\n",
    "            # Write relevant Dijstra's results to graph dict\n",
    "            ds['degrees'] = ds['cost_so_far'][x]; ds['shortest_path'].append(x); ds['status'] = True\n",
    "            while x != init_x:\n",
    "                prev_x = ds['came_from'][x][0]\n",
    "                ds['shortest_path'].append(prev_x)\n",
    "                ds['sentences'].append(f\"{Color.BOLD}{data.get_actor(prev_x)[1]}{Color.END} and {Color.BOLD}{data.get_actor(x)[1]}{Color.END} starred in {Color.CYAN}{data.get_movie(ds['came_from'][x][1])[1]}{Color.END}\")\n",
    "                x = prev_x\n",
    "            ds['shortest_path'].reverse(); ds['sentences'].reverse()\n",
    "            return ds\n",
    "\n",
    "        # Get Actor's Movies\n",
    "        movies_index = np.where(data.stars[:,0] == x)[0].flatten()\n",
    "        movies = data.stars[movies_index,1]\n",
    "\n",
    "        for u in movies:\n",
    "            if u in ds['visited_m']: continue\n",
    "            # Get actors from movie\n",
    "            actors_idx = np.where(data.stars[:,1] == u)[0].flatten()\n",
    "            costars_id = [data.stars[idx,0] for idx in actors_idx]; costars_id.remove(x)\n",
    "\n",
    "            for id in costars_id:\n",
    "                if id in ds['visited_x']: continue\n",
    "                ds['came_from'][id] = [x, u]\n",
    "                ds['cost_so_far'][id] = ds['cost_so_far'][x] + 1\n",
    "                ds['visited_x'].append(id)\n",
    "                Q.insert(id)\n",
    "            ds['visited_m'].append(u)\n",
    "\n",
    "    return ds"
   ]
  },
  {
   "cell_type": "markdown",
   "metadata": {},
   "source": [
    "#### **Actors Input**"
   ]
  },
  {
   "cell_type": "code",
   "execution_count": 5,
   "metadata": {},
   "outputs": [],
   "source": [
    "p1 = input(\"Enter actor/actress Name 1: \")\n",
    "p2 = input(\"Enter actor/actress Name 2: \")"
   ]
  },
  {
   "cell_type": "code",
   "execution_count": null,
   "metadata": {},
   "outputs": [],
   "source": [
    "# Actors Random Selection\n",
    "a = data.people[np.random.choice(data.people.shape[0], size=2, replace=False), :]\n",
    "p1 = a[0,:][1]\n",
    "p2 = a[1,:][1]"
   ]
  },
  {
   "cell_type": "markdown",
   "metadata": {},
   "source": [
    "#### **Results:** Degrees of Separation"
   ]
  },
  {
   "cell_type": "code",
   "execution_count": 6,
   "metadata": {},
   "outputs": [
    {
     "name": "stdout",
     "output_type": "stream",
     "text": [
      "Name 1: Emma Watson\n",
      "Name 2: Jennifer Lawrence\n",
      "Couple of Actors has solution? : \u001b[1m\u001b[92m True\u001b[0m\n",
      "Iterations to find shortest path: \u001b[1m2229\u001b[0m\n",
      "\n",
      "Node-by-Node Path: \u001b[1m914612\u001b[0m\u001b[96m\u001b[1m -> \u001b[0m\u001b[1m705356\u001b[0m\u001b[96m\u001b[1m -> \u001b[0m\u001b[1m564215\u001b[0m\u001b[96m\u001b[1m -> \u001b[0m\u001b[1m2225369\u001b[0m\n",
      "\u001b[1mEmma Watson\u001b[0m and \u001b[1mDaniel Radcliffe\u001b[0m starred in \u001b[96mHarry Potter and the Chamber of Secrets\u001b[0m\n",
      "\u001b[1mDaniel Radcliffe\u001b[0m and \u001b[1mJames McAvoy\u001b[0m starred in \u001b[96mVictor Frankenstein\u001b[0m\n",
      "\u001b[1mJames McAvoy\u001b[0m and \u001b[1mJennifer Lawrence\u001b[0m starred in \u001b[96mX-Men: First Class\u001b[0m\n",
      "\n",
      "Path Length: \u001b[1m4\u001b[0m\n",
      "Degrees of Separation: \u001b[1m3\u001b[0m\n"
     ]
    }
   ],
   "source": [
    "ds = degrees_of_separation(Queue(), p1, p2, data)\n",
    "print(f\"Name 1: {p1}\\nName 2: {p2}\")\n",
    "print(f\"Couple of Actors has solution? : {Color.BOLD}{Color.GREEN if ds['status'] else Color.RED} {ds['status']}{Color.END}\")\n",
    "print(f\"Iterations to find shortest path: {Color.BOLD}{ds['iterations']}{Color.END}\\n\")\n",
    "if ds['status'] == True: print(f\"Node-by-Node Path: {f'{Color.CYAN}{Color.BOLD} -> {Color.END}'.join([f'{Color.BOLD}{x}{Color.END}' for x in ds['shortest_path']])}\")\n",
    "else: print(f\"Node-by-Node Path: {None}\")\n",
    "for s in ds['sentences']: print(s)\n",
    "print(f\"\\nPath Length: {Color.BOLD}{len(ds['shortest_path'])}{Color.END}\")\n",
    "print(f\"Degrees of Separation: {Color.BOLD}{ds['degrees']}{Color.END}\")"
   ]
  }
 ],
 "metadata": {
  "kernelspec": {
   "display_name": "venv",
   "language": "python",
   "name": "python3"
  },
  "language_info": {
   "codemirror_mode": {
    "name": "ipython",
    "version": 3
   },
   "file_extension": ".py",
   "mimetype": "text/x-python",
   "name": "python",
   "nbconvert_exporter": "python",
   "pygments_lexer": "ipython3",
   "version": "3.11.5"
  }
 },
 "nbformat": 4,
 "nbformat_minor": 2
}
