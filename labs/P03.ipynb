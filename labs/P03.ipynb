{
 "cells": [
  {
   "cell_type": "markdown",
   "metadata": {},
   "source": [
    "## **P03: Connect 4 Agent (Minimax, Alpha-Beta Pruning)**\n",
    "*Tijuana, B.C. | 26 MAR 2024*\n",
    "\n",
    "*Presenta:*\n",
    "- Agraz Vallejo Daniel\n",
    "- Cruz Jimenez Axel\n",
    "- Roldan Machado David"
   ]
  },
  {
   "cell_type": "code",
   "execution_count": 1,
   "metadata": {},
   "outputs": [],
   "source": [
    "import numpy as np\n",
    "import matplotlib.pyplot as plt\n",
    "from matplotlib.figure import Figure\n",
    "from classes.players.HumanPlayer import HumanPlayer\n",
    "from classes.players.SmartComputerPlayer import SmartComputerPlayer"
   ]
  },
  {
   "cell_type": "code",
   "execution_count": 156,
   "metadata": {},
   "outputs": [],
   "source": [
    "# Board Graphic display settings (Connect 4)\n",
    "SYMBOL_SIZE = 30\n",
    "X_SYMBOL = 'X'; X_COLOR = 'b'\n",
    "O_SYMBOL = 'O'; O_COLOR = 'r'\n",
    "X_POS = {0: 0.25, 1: 1.21, 2: 2.25, 3:3.21, 4:4.25, 5:5.21, 6:6.25}\n",
    "Y_POS = {0: 5.25, 1: 4.25, 2: 3.25, 3:2.25, 4:1.25, 5:0.25}\n",
    "GAME_DIMS = (6,7)\n",
    "\n",
    "class Board():\n",
    "    __graph_board : Figure   # Visual representation \n",
    "    __s : np.ndarray         # Board state\n",
    "    __bin: np.ndarray        # Array that contains 0s and 1s count from s\n",
    "    __history: list          # Stores played moves\n",
    "    __ply: int               # Number of moves\n",
    "    __dim: tuple             # Board dimensions\n",
    "\n",
    "\n",
    "    def __init__(self, dim:tuple) -> Figure:\n",
    "        self.__s = np.empty(dim, dtype=object)\n",
    "        self.__graph_board = None\n",
    "        self.__history = []\n",
    "        self.__ply = 0\n",
    "        self.__dim = dim\n",
    "        self.set_bin()\n",
    "        self.__init_board()\n",
    " \n",
    "    # BOARD METHODS\n",
    "    # Board Initialization\n",
    "    def __init_board(self):\n",
    "        \"\"\"\n",
    "        A helper function to plot Tic-Tac-Toe Board\n",
    "        \"\"\"\n",
    "        plt.ioff()\n",
    "\n",
    "        # Create a new figure\n",
    "        self.__graph_board, ax = plt.subplots()\n",
    "        self.__graph_board.set_facecolor('k')\n",
    "\n",
    "\n",
    "        # Draw Board\n",
    "        delta = abs(self.__dim[0] - self.__dim[1])\n",
    "        for i in range(0, self.__dim[1] - delta):\n",
    "            ax.plot([0, self.__dim[1]], [i, i], 'w-')\n",
    "\n",
    "        for j in range(0, self.__dim[0] + delta + 1):\n",
    "            ax.plot([j, j], [0, self.__dim[0]], 'w-')\n",
    "\n",
    "        # Set the aspect of the plot to be equal to get a square grid\n",
    "        ax.set_aspect('equal')\n",
    "\n",
    "        # Remove axes\n",
    "        ax.axis('off')\n",
    "    \n",
    "    # Resets board\n",
    "    def init_state(self):\n",
    "        plt.close('all')\n",
    "        self.__init__(self.__dim)\n",
    "\n",
    "\n",
    "    # Visually display current game board\n",
    "    def update_board(self, u:np.ndarray) -> Figure:\n",
    "        ax = self.__graph_board.axes[0]\n",
    "        x, y = u[0], u[1]\n",
    "        if self.__s[x, y] is not None:\n",
    "            symbol = X_SYMBOL if self.__s[x, y] == 1 else O_SYMBOL\n",
    "            color = X_COLOR if symbol == X_SYMBOL else O_COLOR\n",
    "            ax.text(X_POS[y], Y_POS[x], symbol, fontsize=SYMBOL_SIZE, color=color)\n",
    "\n",
    "\n",
    "    # IMPLEMENTATION METHODS\n",
    "        \n",
    "    # Player(s): Gets the player in turn to play from board state\n",
    "    def player(self) -> str:\n",
    "        return 'X' if np.sum(self.__s == 1) <= np.sum(self.__s == 0) else 'O'\n",
    "\n",
    "    # Actions(s): Get player's actions from given state (SPACE SEARCH U(x))\n",
    "    def actions(self) -> np.ndarray:\n",
    "        return np.transpose(np.where(self.__s == None))\n",
    "\n",
    "    # Result(s, a): Executes board move (TRANSITION FUNCTION f(x,u))\n",
    "    def make_move(self, x:np.ndarray):\n",
    "        x = x.flatten()\n",
    "        if self.__s[x[0], x[1]] is None:\n",
    "            self.__s[x[0], x[1]] = 1 if self.player() == 'X' else 0\n",
    "            self.__history.append(x)\n",
    "            self.__ply += 1\n",
    "            self.set_bin()\n",
    "        else:\n",
    "            print(\"Invalid Move. Square has been taken.\")\n",
    "    \n",
    "    # Reverts last move\n",
    "    def undo_move(self):\n",
    "        if len(self.history) == 0:\n",
    "            pass\n",
    "        else:\n",
    "            self.__s[self.history[-1][0], self.history[-1][1]] = None\n",
    "            self.__ply -= 1\n",
    "\n",
    "    # Terminal(s): From current board state, indicates if the board has a winner or draw\n",
    "    def is_terminal(self) -> bool:\n",
    "        winner = self.winner()\n",
    "        if winner == None or winner: \n",
    "            return True\n",
    "        else: return False\n",
    "\n",
    "    # Winner(s): Given current game state return the game's outcome\n",
    "    def winner(self):\n",
    "        self.undo_move()\n",
    "        prospect_winner = self.player()\n",
    "        if len(self.history) > 0: self.make_move(self.history[-1]); self.history.pop()\n",
    "        win_struct = np.ones((1,self.__dim[0])) if prospect_winner == 'X' else np.zeros((1, self.__dim[0]))\n",
    "        \n",
    "        # Check winner by Rows & Columns\n",
    "        for i in range(self.__s.shape[0]):\n",
    "            if (np.isin(self.__s[i,:], win_struct).all() or np.isin(self.__s[:,i].T, win_struct).all()):\n",
    "                return prospect_winner\n",
    "            \n",
    "        # Check winner by diagonals\n",
    "        if (np.isin(np.diag(self.__s), win_struct).all() or (np.fliplr(self.__s).diagonal() == win_struct).all()):\n",
    "            return prospect_winner\n",
    "        elif np.sum(self.__bin) == np.prod(self.__s.shape): return None\n",
    "        return False\n",
    "    \n",
    "    # Utility(s): Returns board evaluation given a terminal state\n",
    "    def utility(self):\n",
    "        if self.is_terminal():\n",
    "            winner = self.winner()\n",
    "            if winner == None: return 0\n",
    "            return 1 if winner == 'X' else -1\n",
    "        else:\n",
    "            return False\n",
    "\n",
    "\n",
    "    # GETTERS\n",
    "    @property\n",
    "    def board(self) -> Figure:\n",
    "        return self.__graph_board\n",
    "    \n",
    "    @property\n",
    "    def state(self) -> np.ndarray:\n",
    "        return self.__s\n",
    "            \n",
    "    @property\n",
    "    def history(self) -> list:\n",
    "        return self.__history\n",
    "    \n",
    "    @property\n",
    "    def ply(self) -> int:\n",
    "        return self.__ply\n",
    "    \n",
    "    # SETTERS\n",
    "    def set_state(self, s:np.ndarray):\n",
    "        self.__s = s\n",
    "        self.set_bin()\n",
    "\n",
    "    def set_bin(self):\n",
    "        self.__bin = np.bincount(self.__s[(self.__s != None)].astype(np.int8))"
   ]
  },
  {
   "cell_type": "markdown",
   "metadata": {},
   "source": [
    "#### **P1.1:** Implementar el juego Conecta 4 de forma completa empleando las funciones que se especifican en **P1.3**"
   ]
  },
  {
   "cell_type": "code",
   "execution_count": 5,
   "metadata": {},
   "outputs": [
    {
     "data": {
      "image/png": "[encoded data removed]",
      "text/plain": [
       "<Figure size 640x480 with 1 Axes>"
      ]
     },
     "execution_count": 5,
     "metadata": {},
     "output_type": "execute_result"
    }
   ],
   "source": [
    "b = Board((6,7))\n",
    "b.board"
   ]
  },
  {
   "cell_type": "code",
   "execution_count": 175,
   "metadata": {},
   "outputs": [],
   "source": [
    "b.init_state()"
   ]
  },
  {
   "cell_type": "code",
   "execution_count": 176,
   "metadata": {},
   "outputs": [
    {
     "data": {
      "image/png": "[encoded data removed]",
      "text/plain": [
       "<Figure size 640x480 with 1 Axes>"
      ]
     },
     "metadata": {},
     "output_type": "display_data"
    }
   ],
   "source": [
    "b.make_move(np.array([5,2])); b.update_board(np.array([5,2]))\n",
    "b.make_move(np.array([5,3])); b.update_board(np.array([5,3]))\n",
    "b.make_move(np.array([5,4])); b.update_board(np.array([5,4]))\n",
    "b.make_move(np.array([4,2])); b.update_board(np.array([4,2]))\n",
    "b.make_move(np.array([3,2])); b.update_board(np.array([3,2]))\n",
    "b.make_move(np.array([4,3])); b.update_board(np.array([4,3]))\n",
    "display(b.board)"
   ]
  },
  {
   "cell_type": "markdown",
   "metadata": {},
   "source": [
    "#### **P1.2:** La dinámica del juego es la siguiente:  "
   ]
  },
  {
   "cell_type": "markdown",
   "metadata": {},
   "source": [
    "a) El usuario selecciona $\\text{'X'}$ u $\\text{'O'}$\n",
    "\n",
    "b) Siempre inicia el juego $\\text{'X'}$ (MAX)\n",
    "\n",
    "c) Llevar a cabo el juego entre agente y usuario.\n",
    "\n",
    "d) Desplegar el estado de juego a cada paso (movimiento).\n",
    "\n",
    "e) Desplegar resultado final (ganador o empate)."
   ]
  },
  {
   "cell_type": "code",
   "execution_count": null,
   "metadata": {},
   "outputs": [],
   "source": []
  },
  {
   "cell_type": "markdown",
   "metadata": {},
   "source": [
    "#### **P1.3:** Implementar las siguientes funciones del agente:"
   ]
  },
  {
   "cell_type": "markdown",
   "metadata": {},
   "source": [
    "`initial_state()`: el estado inicial, $S_{0}$, especifica la configuración  \n",
    "inicial del juego (en nuestro caso, un tablero vacío de $6 \\times 7$).\n",
    "\n",
    "`display(s)`: función para desplegar la inforamción del tablero  \n",
    "(estado actual) en forma gráfica utilizando: Matplotlib, Pygame, Tkinter, OpenCV.\n",
    "\n",
    "`player(s)`: regresa a que jugador ($X\\;\\text{u}\\;O$) le toca mover dado el estado `s`.\n",
    "\n",
    "`actions(s)`: regresa un conjunto de acciones legales (qué lugares   \n",
    "están libres en el tablero) dado el estado `s`.\n",
    "\n",
    "`result(s,a)`: el modelo de transición, función que regresa  \n",
    "el estado reusltante de tomar la acción `a` en el estado `s`.\n",
    "\n",
    "`terminal(s)`: la prueba de terminación es verdadera (`True`) cuando el  \n",
    "juego termina (es decir, verificar si alguien ganó o hay empate) y es   \n",
    "falsa (`False`) en caso contrario. El estado `s` donde termina el juego   \n",
    "es llamado estado terminal.\n",
    "\n",
    "`utility(s)`: la función de utilidad (también llamada función objetivo)  \n",
    "define el valor numérico final para el jugador cuando el juego terminal  \n",
    "en el estado terminal `s`. Devuelve el valor de utilidad del estado: -1, 0 o 1.\n",
    "\n",
    "`minimax(s)`: Optimizado con `alpha-beta pruning`, función que regresa  \n",
    "el valor (movimiento)óptimo dependiendo a que jugador $(X \\;\\text{u} \\; O)$   \n",
    "le toca mover el estado.  "
   ]
  }
 ],
 "metadata": {
  "kernelspec": {
   "display_name": "venv",
   "language": "python",
   "name": "python3"
  },
  "language_info": {
   "codemirror_mode": {
    "name": "ipython",
    "version": 3
   },
   "file_extension": ".py",
   "mimetype": "text/x-python",
   "name": "python",
   "nbconvert_exporter": "python",
   "pygments_lexer": "ipython3",
   "version": "3.11.5"
  }
 },
 "nbformat": 4,
 "nbformat_minor": 2
}
