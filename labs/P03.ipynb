{
 "cells": [
  {
   "cell_type": "markdown",
   "metadata": {},
   "source": [
    "## **P03: Connect 4 Agent (Minimax, Alpha-Beta Pruning)**\n",
    "*Tijuana, B.C. | 14 MAY 2024*\n",
    "\n",
    "*Presenta:*\n",
    "- Agraz Vallejo Daniel\n",
    "- Cruz Jimenez Axel\n",
    "- Roldan Machado David"
   ]
  },
  {
   "cell_type": "code",
   "execution_count": 1,
   "metadata": {},
   "outputs": [],
   "source": [
    "import math\n",
    "import copy\n",
    "import numpy as np\n",
    "import matplotlib.pyplot as plt\n",
    "from matplotlib.figure import Figure\n",
    "\n",
    "GAME_DIMS = (6,7)"
   ]
  },
  {
   "cell_type": "markdown",
   "metadata": {},
   "source": [
    "#### **Board Class**"
   ]
  },
  {
   "cell_type": "code",
   "execution_count": 2,
   "metadata": {},
   "outputs": [],
   "source": [
    "# Game.py - Board Class\n",
    "\n",
    "# Board Graphic display settings (Connect 4)\n",
    "CONNECT_FOUR_WC = 4\n",
    "SYMBOL_SIZE = 30\n",
    "X_SYMBOL = 'X'; X_COLOR = 'b'\n",
    "O_SYMBOL = 'O'; O_COLOR = 'r'\n",
    "X_POS = {0: 0.25, 1: 1.21, 2: 2.25, 3:3.21, 4:4.25, 5:5.21, 6:6.25}\n",
    "Y_POS = {0: 5.25, 1: 4.25, 2: 3.25, 3:2.25, 4:1.25, 5:0.25}\n",
    "\n",
    "class Board():\n",
    "    __graph_board : Figure   # Visual representation \n",
    "    __s : np.ndarray         # Board state\n",
    "    __bin: np.ndarray        # Array that contains 0s and 1s count from s\n",
    "    __history: list          # Stores played moves\n",
    "    __ply: int               # Number of moves\n",
    "    __dim: tuple             # Board dimensions\n",
    "\n",
    "\n",
    "    def __init__(self, dim:tuple) -> Figure:\n",
    "        self.__s = np.empty(dim, dtype=object)\n",
    "        self.__graph_board = None\n",
    "        self.__history = []\n",
    "        self.__ply = 0\n",
    "        self.__dim = dim\n",
    "        self.set_bin()\n",
    "        self.__init_board()\n",
    " \n",
    "    # BOARD METHODS\n",
    "    # Board Initialization\n",
    "    def __init_board(self):\n",
    "        \"\"\"\n",
    "        A helper function to plot Tic-Tac-Toe Board\n",
    "        \"\"\"\n",
    "        plt.ioff()\n",
    "\n",
    "        # Create a new figure\n",
    "        self.__graph_board, ax = plt.subplots()\n",
    "        self.__graph_board.set_facecolor('k')\n",
    "\n",
    "\n",
    "        # Draw Board\n",
    "        delta = abs(self.__dim[0] - self.__dim[1])\n",
    "        for i in range(0, self.__dim[1] - delta):\n",
    "            ax.plot([0, self.__dim[1]], [i, i], 'w-')\n",
    "\n",
    "        for j in range(0, self.__dim[0] + delta + 1):\n",
    "            ax.plot([j, j], [0, self.__dim[0]], 'w-')\n",
    "\n",
    "        # Set the aspect of the plot to be equal to get a square grid\n",
    "        ax.set_aspect('equal')\n",
    "\n",
    "        # Remove axes\n",
    "        ax.axis('off')\n",
    "    \n",
    "    # Resets board\n",
    "    def init_state(self):\n",
    "        plt.close('all')\n",
    "        self.__init__(self.__dim)\n",
    "\n",
    "\n",
    "    # Visually display current game board\n",
    "    def update_board(self, u:np.ndarray) -> Figure:\n",
    "        ax = self.__graph_board.axes[0]\n",
    "        x, y = u[0], u[1]\n",
    "        if self.__s[x, y] is not None:\n",
    "            symbol = X_SYMBOL if self.__s[x, y] == 1 else O_SYMBOL\n",
    "            color = X_COLOR if symbol == X_SYMBOL else O_COLOR\n",
    "            ax.text(X_POS[y], Y_POS[x], symbol, fontsize=SYMBOL_SIZE, color=color)\n",
    "\n",
    "\n",
    "    # IMPLEMENTATION METHODS\n",
    "        \n",
    "    # Player(s): Gets the player in turn to play from board state\n",
    "    def player(self) -> str:\n",
    "        return 'X' if np.sum(self.__s == 1) <= np.sum(self.__s == 0) else 'O'\n",
    "\n",
    "    # Actions(s): Get player's actions from given state (SPACE SEARCH U(x))\n",
    "    def actions(self) -> np.ndarray:\n",
    "        U = []\n",
    "        for col in range(self.__dim[1]):\n",
    "            if (self.__s[:, col] != None).all(): continue\n",
    "            else: U.append(list([np.where(self.__s[:, col] == None)[0][-1], col]))\n",
    "            U.append(list([np.where(self.__s[:, col] == None)[0][-1], col]))\n",
    "        return np.array(U)\n",
    "\n",
    "    # Result(s, a): Executes board move (TRANSITION FUNCTION f(x,u))\n",
    "    def make_move(self, x:np.ndarray):\n",
    "        x = x.flatten()\n",
    "        if self.__s[x[0], x[1]] is None:\n",
    "            self.__s[x[0], x[1]] = 1 if self.player() == 'X' else 0\n",
    "            self.__history.append(x)\n",
    "            self.__ply += 1\n",
    "            self.set_bin()\n",
    "        else:\n",
    "            print(\"Invalid Move. Square has been taken.\")\n",
    "    \n",
    "    # Reverts last move\n",
    "    def undo_move(self):\n",
    "        if len(self.history) == 0:\n",
    "            pass\n",
    "        else:\n",
    "            self.__s[self.history[-1][0], self.history[-1][1]] = None\n",
    "            self.__ply -= 1\n",
    "\n",
    "    # Terminal(s): From current board state, indicates if the board has a winner or draw\n",
    "    def is_terminal(self) -> bool:\n",
    "        winner = self.winner()\n",
    "        if winner == None or winner: \n",
    "            return True\n",
    "        else: return False\n",
    "\n",
    "    # Winner(s): Given current game state return the game's outcome\n",
    "    def winner(self):\n",
    "        self.undo_move()\n",
    "        prospect_winner = self.player()\n",
    "        if len(self.history) > 0: self.make_move(self.history[-1]); self.history.pop()\n",
    "        win_struct = np.ones((1, CONNECT_FOUR_WC)) if prospect_winner == 'X' else np.zeros((1, CONNECT_FOUR_WC))\n",
    "        \n",
    "        # Check winner by Rows\n",
    "        for i in range(self.__s.shape[0]):\n",
    "            x = 0\n",
    "            for val in self.__s[i,:]:\n",
    "                if val == win_struct[0,0]: x += 1\n",
    "                else: x = 0\n",
    "                if x >= CONNECT_FOUR_WC: return prospect_winner\n",
    "        \n",
    "        # Check winner by Columns\n",
    "        for j in range(self.__s.shape[1]):\n",
    "            x = 0\n",
    "            for val in self.__s[:,j].T:\n",
    "                if val == win_struct[0,0]: x += 1\n",
    "                else: x = 0\n",
    "                if x >= CONNECT_FOUR_WC: return prospect_winner\n",
    "            \n",
    "        # Check winner by Diagonals\n",
    "        fm = get_fm(self.__dim, (CONNECT_FOUR_WC, CONNECT_FOUR_WC), 1)\n",
    "\n",
    "        for i in range(fm[0]):\n",
    "            for j in range(fm[1]):\n",
    "                s = self.__s[i:fm[1]+i, j:fm[1]+j]\n",
    "                if (np.isin(np.diag(s), win_struct).all() or (np.fliplr(s).diagonal() == win_struct).all()):\n",
    "                    return prospect_winner\n",
    "            \n",
    "        if np.sum(self.__bin) == np.prod(self.__s.shape): return None\n",
    "        return False\n",
    "    \n",
    "    # Utility(s): Returns board evaluation given a terminal state\n",
    "    def utility(self):\n",
    "        if self.is_terminal():\n",
    "            winner = self.winner()\n",
    "            if winner == None: return 0\n",
    "            return 1 if winner == 'X' else -1\n",
    "        else:\n",
    "            return False\n",
    "\n",
    "\n",
    "    # GETTERS\n",
    "    @property\n",
    "    def board(self) -> Figure:\n",
    "        return self.__graph_board\n",
    "    \n",
    "    @property\n",
    "    def state(self) -> np.ndarray:\n",
    "        return self.__s\n",
    "            \n",
    "    @property\n",
    "    def history(self) -> list:\n",
    "        return self.__history\n",
    "    \n",
    "    @property\n",
    "    def ply(self) -> int:\n",
    "        return self.__ply\n",
    "    \n",
    "    # SETTERS\n",
    "    def set_state(self, s:np.ndarray):\n",
    "        self.__s = s\n",
    "        self.set_bin()\n",
    "\n",
    "    def set_bin(self):\n",
    "        self.__bin = np.bincount(self.__s[(self.__s != None)].astype(np.int8))"
   ]
  },
  {
   "cell_type": "markdown",
   "metadata": {},
   "source": [
    "#### **Support Functions**"
   ]
  },
  {
   "cell_type": "code",
   "execution_count": 3,
   "metadata": {},
   "outputs": [],
   "source": [
    "def get_fm(img:tuple, f:tuple, stride:np.int8) -> tuple:\n",
    "    feature_dims = np.empty(2, dtype=np.int8)\n",
    "    if (((img[0] - f[0]) % stride != 0) or ((img[1] - f[1]) % stride != 0)):\n",
    "        return \"Operation is not valid!\"\n",
    "    else:\n",
    "        feature_dims[0] = (img[0] - f[0]) / stride + 1\n",
    "        feature_dims[1] = (img[1] - f[1]) / stride + 1\n",
    "    return tuple(feature_dims)"
   ]
  },
  {
   "cell_type": "markdown",
   "metadata": {},
   "source": [
    "#### **Minimax Algorithm**"
   ]
  },
  {
   "cell_type": "code",
   "execution_count": 4,
   "metadata": {},
   "outputs": [],
   "source": [
    "def minimax(board:Board, depth:int) -> tuple:\n",
    "    if board.is_terminal() or depth == 0:\n",
    "        return board.utility(), None\n",
    "\n",
    "    best_value = -math.inf if board.player() == 'X' else math.inf\n",
    "    best_move = None\n",
    "\n",
    "    for move in board.actions():\n",
    "        board.make_move(move)\n",
    "        val, _ = minimax(copy.deepcopy(board), depth - 1)\n",
    "        board.undo_move()\n",
    "\n",
    "        if board.player() == 'X':\n",
    "            if val > best_value:\n",
    "                best_value = val\n",
    "                best_move = move\n",
    "        else:\n",
    "            if val < best_value:\n",
    "                best_value = val\n",
    "                best_move = move\n",
    "\n",
    "    return best_value, best_move"
   ]
  },
  {
   "cell_type": "markdown",
   "metadata": {},
   "source": [
    "#### **Alfa-Beta Pruning Algorithm**"
   ]
  },
  {
   "cell_type": "code",
   "execution_count": 5,
   "metadata": {},
   "outputs": [],
   "source": [
    "def alfabeta_it(board, depth:np.int8, alpha, beta, iterations, recursions):\n",
    "    a = alpha; b = beta\n",
    "\n",
    "    if board.is_terminal() or depth == 0:\n",
    "        return board.utility(), None, iterations, recursions\n",
    "    \n",
    "    if iterations != 0: recursions += 1\n",
    "    best_value = -math.inf if board.player() == 'X' else math.inf\n",
    "    best_move = None\n",
    "\n",
    "    for move in board.actions():\n",
    "        iterations += 1\n",
    "        board.make_move(move)\n",
    "        val, _, iterations, recursions = alfabeta_it(copy.deepcopy(board), depth - 1, alpha, beta, iterations, recursions)\n",
    "        board.undo_move()\n",
    "\n",
    "        if board.player() == 'X':\n",
    "            if val > best_value:\n",
    "                best_value = val\n",
    "                best_move = move\n",
    "            a = np.maximum(a, val)\n",
    "            if a >= b: break\n",
    "        else:\n",
    "            if val < best_value:\n",
    "                best_value = val\n",
    "                best_move = move\n",
    "            b = np.minimum(b, val)\n",
    "            if a >= b: break\n",
    "    return best_value, best_move, iterations, recursions"
   ]
  },
  {
   "cell_type": "markdown",
   "metadata": {},
   "source": [
    "#### **Players**"
   ]
  },
  {
   "cell_type": "code",
   "execution_count": 6,
   "metadata": {},
   "outputs": [],
   "source": [
    "class Player():\n",
    "    def __init__(self, letter) -> None:\n",
    "        self.letter = letter\n",
    "\n",
    "    def get_move(self, game):\n",
    "        pass\n",
    "\n",
    "\n",
    "class HumanPlayer(Player):\n",
    "    def __init__(self, letter) -> None:\n",
    "        super().__init__(letter)\n",
    "\n",
    "    def get_move(self, game) -> np.ndarray:\n",
    "        valid_square = False\n",
    "        move = None\n",
    "        while not valid_square:\n",
    "            col = int(input(f\"It's Human Player Turn!: \"))\n",
    "\n",
    "            try:\n",
    "                if col < 0 and col > game.state.shape[1]:\n",
    "                    raise ValueError\n",
    "                valid_square = True\n",
    "            except ValueError:\n",
    "                print(\"Invalid Column. Try Again\")\n",
    "\n",
    "        m = []\n",
    "        for move in game.actions():\n",
    "            if move[1] == col:\n",
    "                m.append(move)\n",
    "        return m[-1]\n",
    "\n",
    "\n",
    "class SmartComputerPlayer(Player):\n",
    "    def __init__(self, letter) -> None:\n",
    "        super().__init__(letter)\n",
    "\n",
    "    def get_move(self, game):\n",
    "        if game.actions().shape[0] == 9:\n",
    "            U = game.actions()\n",
    "            corner_filter = np.array([[0,0],[0,2],[2,0],[2,2]])\n",
    "            is_corner = np.all(np.isin(U, corner_filter), axis=1)\n",
    "            corner_moves = U[is_corner]\n",
    "            move = corner_moves[np.random.choice(corner_moves.shape[0], size=1, replace=False), :].flatten()\n",
    "            print(f\"Minimax played: {move}\\n\")\n",
    "        else:\n",
    "            # Alfa-Beta Pruning Search\n",
    "            val, move, iterations, recursions = alfabeta_it(copy.deepcopy(game), 3, -math.inf, math.inf, 0, 0)\n",
    "            print(f\"Alfa-Beta played: {move}\\n\")\n",
    "            print(f\"Move Utility: {val}\\n\")\n",
    "            print(f\"ITERATIONS TO FIND BEST MOVE: {iterations}\")\n",
    "            print(f\"RECURSIONS MADE: {recursions}\")\n",
    "\n",
    "            # Minimax Search\n",
    "            # move = minimax_it(copy.deepcopy(game), 3)[1]\n",
    "            # print(f\"Minimax played: {move}\\n\")\n",
    "            # print(f\"ITERATIONS TO FIND BEST MOVE: {iterations}\")\n",
    "        return move"
   ]
  },
  {
   "cell_type": "markdown",
   "metadata": {},
   "source": [
    "#### **P1.1:** Implementar el juego Conecta 4 de forma completa empleando las funciones que se especifican en **P1.3**"
   ]
  },
  {
   "cell_type": "code",
   "execution_count": 7,
   "metadata": {},
   "outputs": [
    {
     "data": {
      "image/png": "[encoded data removed]",
      "text/plain": [
       "<Figure size 640x480 with 1 Axes>"
      ]
     },
     "execution_count": 7,
     "metadata": {},
     "output_type": "execute_result"
    },
    {
     "data": {
      "image/png": "[encoded data removed]",
      "text/plain": [
       "<Figure size 640x480 with 1 Axes>"
      ]
     },
     "metadata": {},
     "output_type": "display_data"
    }
   ],
   "source": [
    "b = Board((6,7))\n",
    "b.board"
   ]
  },
  {
   "cell_type": "code",
   "execution_count": 8,
   "metadata": {},
   "outputs": [],
   "source": [
    "b.init_state()"
   ]
  },
  {
   "cell_type": "code",
   "execution_count": 9,
   "metadata": {},
   "outputs": [
    {
     "data": {
      "image/png": "[encoded data removed]",
      "text/plain": [
       "<Figure size 640x480 with 1 Axes>"
      ]
     },
     "metadata": {},
     "output_type": "display_data"
    }
   ],
   "source": [
    "b.make_move(np.array([5,5])); b.update_board(np.array([5,5]))\n",
    "b.make_move(np.array([5,2])); b.update_board(np.array([5,2]))\n",
    "b.make_move(np.array([5,3])); b.update_board(np.array([5,3]))\n",
    "b.make_move(np.array([5,4])); b.update_board(np.array([5,4]))\n",
    "b.make_move(np.array([4,2])); b.update_board(np.array([4,2]))\n",
    "b.make_move(np.array([3,2])); b.update_board(np.array([3,2]))\n",
    "b.make_move(np.array([4,3])); b.update_board(np.array([4,3]))\n",
    "display(b.board)"
   ]
  },
  {
   "cell_type": "code",
   "execution_count": 10,
   "metadata": {},
   "outputs": [
    {
     "data": {
      "image/png": "[encoded data removed]",
      "text/plain": [
       "<Figure size 640x480 with 1 Axes>"
      ]
     },
     "metadata": {},
     "output_type": "display_data"
    }
   ],
   "source": [
    "b.make_move(np.array([5,1])); b.update_board(np.array([5,1]))\n",
    "b.make_move(np.array([5,0])); b.update_board(np.array([5,0]))\n",
    "b.make_move(np.array([4,1])); b.update_board(np.array([4,1]))\n",
    "b.make_move(np.array([3,1])); b.update_board(np.array([3,1]))\n",
    "b.make_move(np.array([5,6])); b.update_board(np.array([5,6]))\n",
    "b.make_move(np.array([4,0])); b.update_board(np.array([4,0]))\n",
    "b.make_move(np.array([3,0])); b.update_board(np.array([3,0]))\n",
    "b.make_move(np.array([2,0])); b.update_board(np.array([2,0]))\n",
    "display(b.board)"
   ]
  },
  {
   "cell_type": "code",
   "execution_count": 11,
   "metadata": {},
   "outputs": [
    {
     "data": {
      "text/plain": [
       "array([[None, None, None, None, None, None, None],\n",
       "       [None, None, None, None, None, None, None],\n",
       "       [1, None, None, None, None, None, None],\n",
       "       [0, 1, 0, None, None, None, None],\n",
       "       [1, 0, 1, 1, None, None, None],\n",
       "       [1, 0, 0, 1, 0, 1, 0]], dtype=object)"
      ]
     },
     "execution_count": 11,
     "metadata": {},
     "output_type": "execute_result"
    }
   ],
   "source": [
    "b.state"
   ]
  },
  {
   "cell_type": "code",
   "execution_count": 12,
   "metadata": {},
   "outputs": [
    {
     "data": {
      "text/plain": [
       "'X'"
      ]
     },
     "execution_count": 12,
     "metadata": {},
     "output_type": "execute_result"
    }
   ],
   "source": [
    "b.winner()"
   ]
  },
  {
   "cell_type": "markdown",
   "metadata": {},
   "source": [
    "#### **P1.2:** La dinámica del juego es la siguiente:  "
   ]
  },
  {
   "cell_type": "markdown",
   "metadata": {},
   "source": [
    "a) El usuario selecciona $\\text{'X'}$ u $\\text{'O'}$\n",
    "\n",
    "b) Siempre inicia el juego $\\text{'X'}$ (MAX)\n",
    "\n",
    "c) Llevar a cabo el juego entre agente y usuario.\n",
    "\n",
    "d) Desplegar el estado de juego a cada paso (movimiento).\n",
    "\n",
    "e) Desplegar resultado final (ganador o empate)."
   ]
  },
  {
   "cell_type": "markdown",
   "metadata": {},
   "source": [
    "##### **Implementación de Juego**"
   ]
  },
  {
   "cell_type": "code",
   "execution_count": 13,
   "metadata": {},
   "outputs": [],
   "source": [
    "def play(game:Board, x_player:Player, o_player:Player) -> None:\n",
    "    while (np.any(game.state == None) and not game.is_terminal()):\n",
    "        # Gets Player X/O move\n",
    "        move = x_player.get_move(game) if game.player() == 'X' else o_player.get_move(game)\n",
    "        game.make_move(move)\n",
    "    \n",
    "        print(f\"{game.state}\\n\")\n",
    "        game.update_board(move)\n",
    "        display(game.board)\n",
    "    winner = game.winner()\n",
    "    if winner == 'X': print(f\"PLAYER {x_player.letter} HAS WON!!\")\n",
    "    elif winner == 'O': print(f\"PLAYER {o_player.letter} HAS WON!!\")\n",
    "    else: print(f\"GAME ENDED IN A DRAW!\")\n",
    "    game.init_state()"
   ]
  },
  {
   "cell_type": "code",
   "execution_count": 14,
   "metadata": {},
   "outputs": [
    {
     "name": "stdout",
     "output_type": "stream",
     "text": [
      "Welcome to Connect 4!!\n",
      "[[None None None None None None None]\n",
      " [None None None None None None None]\n",
      " [None None None None None None None]\n",
      " [None None None None None None None]\n",
      " [None None None None None None None]\n",
      " [None None 1 None None None None]]\n",
      "\n"
     ]
    },
    {
     "data": {
      "image/png": "[encoded data removed]",
      "text/plain": [
       "<Figure size 640x480 with 1 Axes>"
      ]
     },
     "metadata": {},
     "output_type": "display_data"
    },
    {
     "name": "stdout",
     "output_type": "stream",
     "text": [
      "Alfa-Beta played: [5 0]\n",
      "\n",
      "Move Utility: False\n",
      "\n",
      "ITERATIONS TO FIND BEST MOVE: 2954\n",
      "RECURSIONS MADE: 210\n",
      "[[None None None None None None None]\n",
      " [None None None None None None None]\n",
      " [None None None None None None None]\n",
      " [None None None None None None None]\n",
      " [None None None None None None None]\n",
      " [0 None 1 None None None None]]\n",
      "\n"
     ]
    },
    {
     "data": {
      "image/png": "[encoded data removed]",
      "text/plain": [
       "<Figure size 640x480 with 1 Axes>"
      ]
     },
     "metadata": {},
     "output_type": "display_data"
    },
    {
     "ename": "ValueError",
     "evalue": "invalid literal for int() with base 10: 'asdf'",
     "output_type": "error",
     "traceback": [
      "\u001b[0;31m---------------------------------------------------------------------------\u001b[0m",
      "\u001b[0;31mValueError\u001b[0m                                Traceback (most recent call last)",
      "Cell \u001b[0;32mIn[14], line 7\u001b[0m\n\u001b[1;32m      4\u001b[0m x_player \u001b[38;5;241m=\u001b[39m HumanPlayer(\u001b[38;5;124m'\u001b[39m\u001b[38;5;124mX\u001b[39m\u001b[38;5;124m'\u001b[39m) \u001b[38;5;28;01mif\u001b[39;00m human_player \u001b[38;5;241m==\u001b[39m \u001b[38;5;124m'\u001b[39m\u001b[38;5;124mX\u001b[39m\u001b[38;5;124m'\u001b[39m \u001b[38;5;28;01melse\u001b[39;00m SmartComputerPlayer(\u001b[38;5;124m'\u001b[39m\u001b[38;5;124mX\u001b[39m\u001b[38;5;124m'\u001b[39m)\n\u001b[1;32m      5\u001b[0m o_player \u001b[38;5;241m=\u001b[39m HumanPlayer(\u001b[38;5;124m'\u001b[39m\u001b[38;5;124mO\u001b[39m\u001b[38;5;124m'\u001b[39m) \u001b[38;5;28;01mif\u001b[39;00m human_player \u001b[38;5;241m==\u001b[39m \u001b[38;5;124m'\u001b[39m\u001b[38;5;124mO\u001b[39m\u001b[38;5;124m'\u001b[39m \u001b[38;5;28;01melse\u001b[39;00m SmartComputerPlayer(\u001b[38;5;124m'\u001b[39m\u001b[38;5;124mO\u001b[39m\u001b[38;5;124m'\u001b[39m)\n\u001b[0;32m----> 7\u001b[0m \u001b[43mplay\u001b[49m\u001b[43m(\u001b[49m\u001b[43mt\u001b[49m\u001b[43m,\u001b[49m\u001b[43m \u001b[49m\u001b[43mx_player\u001b[49m\u001b[43m,\u001b[49m\u001b[43m \u001b[49m\u001b[43mo_player\u001b[49m\u001b[43m)\u001b[49m\n\u001b[1;32m      8\u001b[0m t\u001b[38;5;241m.\u001b[39minit_state()\n",
      "Cell \u001b[0;32mIn[13], line 4\u001b[0m, in \u001b[0;36mplay\u001b[0;34m(game, x_player, o_player)\u001b[0m\n\u001b[1;32m      1\u001b[0m \u001b[38;5;28;01mdef\u001b[39;00m \u001b[38;5;21mplay\u001b[39m(game:Board, x_player:Player, o_player:Player) \u001b[38;5;241m-\u001b[39m\u001b[38;5;241m>\u001b[39m \u001b[38;5;28;01mNone\u001b[39;00m:\n\u001b[1;32m      2\u001b[0m     \u001b[38;5;28;01mwhile\u001b[39;00m (np\u001b[38;5;241m.\u001b[39many(game\u001b[38;5;241m.\u001b[39mstate \u001b[38;5;241m==\u001b[39m \u001b[38;5;28;01mNone\u001b[39;00m) \u001b[38;5;129;01mand\u001b[39;00m \u001b[38;5;129;01mnot\u001b[39;00m game\u001b[38;5;241m.\u001b[39mis_terminal()):\n\u001b[1;32m      3\u001b[0m         \u001b[38;5;66;03m# Gets Player X/O move\u001b[39;00m\n\u001b[0;32m----> 4\u001b[0m         move \u001b[38;5;241m=\u001b[39m \u001b[43mx_player\u001b[49m\u001b[38;5;241;43m.\u001b[39;49m\u001b[43mget_move\u001b[49m\u001b[43m(\u001b[49m\u001b[43mgame\u001b[49m\u001b[43m)\u001b[49m \u001b[38;5;28;01mif\u001b[39;00m game\u001b[38;5;241m.\u001b[39mplayer() \u001b[38;5;241m==\u001b[39m \u001b[38;5;124m'\u001b[39m\u001b[38;5;124mX\u001b[39m\u001b[38;5;124m'\u001b[39m \u001b[38;5;28;01melse\u001b[39;00m o_player\u001b[38;5;241m.\u001b[39mget_move(game)\n\u001b[1;32m      5\u001b[0m         game\u001b[38;5;241m.\u001b[39mmake_move(move)\n\u001b[1;32m      7\u001b[0m         \u001b[38;5;28mprint\u001b[39m(\u001b[38;5;124mf\u001b[39m\u001b[38;5;124m\"\u001b[39m\u001b[38;5;132;01m{\u001b[39;00mgame\u001b[38;5;241m.\u001b[39mstate\u001b[38;5;132;01m}\u001b[39;00m\u001b[38;5;130;01m\\n\u001b[39;00m\u001b[38;5;124m\"\u001b[39m)\n",
      "Cell \u001b[0;32mIn[6], line 17\u001b[0m, in \u001b[0;36mHumanPlayer.get_move\u001b[0;34m(self, game)\u001b[0m\n\u001b[1;32m     15\u001b[0m move \u001b[38;5;241m=\u001b[39m \u001b[38;5;28;01mNone\u001b[39;00m\n\u001b[1;32m     16\u001b[0m \u001b[38;5;28;01mwhile\u001b[39;00m \u001b[38;5;129;01mnot\u001b[39;00m valid_square:\n\u001b[0;32m---> 17\u001b[0m     col \u001b[38;5;241m=\u001b[39m \u001b[38;5;28;43mint\u001b[39;49m\u001b[43m(\u001b[49m\u001b[38;5;28;43minput\u001b[39;49m\u001b[43m(\u001b[49m\u001b[38;5;124;43mf\u001b[39;49m\u001b[38;5;124;43m\"\u001b[39;49m\u001b[38;5;124;43mIt\u001b[39;49m\u001b[38;5;124;43m'\u001b[39;49m\u001b[38;5;124;43ms Human Player Turn!: \u001b[39;49m\u001b[38;5;124;43m\"\u001b[39;49m\u001b[43m)\u001b[49m\u001b[43m)\u001b[49m\n\u001b[1;32m     19\u001b[0m     \u001b[38;5;28;01mtry\u001b[39;00m:\n\u001b[1;32m     20\u001b[0m         \u001b[38;5;28;01mif\u001b[39;00m col \u001b[38;5;241m<\u001b[39m \u001b[38;5;241m0\u001b[39m \u001b[38;5;129;01mand\u001b[39;00m col \u001b[38;5;241m>\u001b[39m game\u001b[38;5;241m.\u001b[39mstate\u001b[38;5;241m.\u001b[39mshape[\u001b[38;5;241m1\u001b[39m]:\n",
      "\u001b[0;31mValueError\u001b[0m: invalid literal for int() with base 10: 'asdf'"
     ]
    }
   ],
   "source": [
    "print(\"Welcome to Connect 4!!\")\n",
    "human_player = input(\"Select your Player X/O: \")\n",
    "t = Board(GAME_DIMS)\n",
    "x_player = HumanPlayer('X') if human_player == 'X' else SmartComputerPlayer('X')\n",
    "o_player = HumanPlayer('O') if human_player == 'O' else SmartComputerPlayer('O')\n",
    "\n",
    "play(t, x_player, o_player)\n",
    "t.init_state()"
   ]
  },
  {
   "cell_type": "markdown",
   "metadata": {},
   "source": [
    "#### **P1.3:** Implementar las siguientes funciones del agente:"
   ]
  },
  {
   "cell_type": "markdown",
   "metadata": {},
   "source": [
    "`initial_state()`: el estado inicial, $S_{0}$, especifica la configuración  \n",
    "inicial del juego (en nuestro caso, un tablero vacío de $6 \\times 7$).\n",
    "\n",
    "`display(s)`: función para desplegar la inforamción del tablero  \n",
    "(estado actual) en forma gráfica utilizando: Matplotlib, Pygame, Tkinter, OpenCV.\n",
    "\n",
    "`player(s)`: regresa a que jugador ($X\\;\\text{u}\\;O$) le toca mover dado el estado `s`.\n",
    "\n",
    "`actions(s)`: regresa un conjunto de acciones legales (qué lugares   \n",
    "están libres en el tablero) dado el estado `s`.\n",
    "\n",
    "`result(s,a)`: el modelo de transición, función que regresa  \n",
    "el estado reusltante de tomar la acción `a` en el estado `s`.\n",
    "\n",
    "`terminal(s)`: la prueba de terminación es verdadera (`True`) cuando el  \n",
    "juego termina (es decir, verificar si alguien ganó o hay empate) y es   \n",
    "falsa (`False`) en caso contrario. El estado `s` donde termina el juego   \n",
    "es llamado estado terminal.\n",
    "\n",
    "`utility(s)`: la función de utilidad (también llamada función objetivo)  \n",
    "define el valor numérico final para el jugador cuando el juego terminal  \n",
    "en el estado terminal `s`. Devuelve el valor de utilidad del estado: -1, 0 o 1.\n",
    "\n",
    "`minimax(s)`: Optimizado con `alpha-beta pruning`, función que regresa  \n",
    "el valor (movimiento)óptimo dependiendo a que jugador $(X \\;\\text{u} \\; O)$   \n",
    "le toca mover el estado.  "
   ]
  },
  {
   "cell_type": "markdown",
   "metadata": {},
   "source": [
    "*NOTA:* La implementación de las funciones del agente se ubican implementadas dentro de la Clase `Board`.  \n",
    "Favor de Consultar la celda \"Board Class\"."
   ]
  }
 ],
 "metadata": {
  "kernelspec": {
   "display_name": "venv",
   "language": "python",
   "name": "python3"
  },
  "language_info": {
   "codemirror_mode": {
    "name": "ipython",
    "version": 3
   },
   "file_extension": ".py",
   "mimetype": "text/x-python",
   "name": "python",
   "nbconvert_exporter": "python",
   "pygments_lexer": "ipython3",
   "version": "3.11.5"
  }
 },
 "nbformat": 4,
 "nbformat_minor": 2
}
