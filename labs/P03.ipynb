{
 "cells": [
  {
   "cell_type": "markdown",
   "metadata": {},
   "source": [
    "## **P03: Connect 4 Agent (Minimax, Alpha-Beta Pruning)**\n",
    "*Tijuana, B.C. | 26 MAR 2024*\n",
    "\n",
    "*Presenta:*\n",
    "- Agraz Vallejo Daniel\n",
    "- Cruz Jimenez Axel\n",
    "- Roldan Machado David"
   ]
  },
  {
   "cell_type": "code",
   "execution_count": 1,
   "metadata": {},
   "outputs": [],
   "source": [
    "import numpy as np\n",
    "from classes.Game import Board\n",
    "from classes.SmartComputerPlayer import SmartComputerPlayer\n",
    "from classes.HumanPlayer import HumanPlayer"
   ]
  },
  {
   "cell_type": "markdown",
   "metadata": {},
   "source": [
    "#### **P1.1:** Implementar el juego Conecta 4 de forma completa empleando las funciones que se especifican en 1.3"
   ]
  },
  {
   "cell_type": "code",
   "execution_count": 1,
   "metadata": {},
   "outputs": [
    {
     "ename": "NameError",
     "evalue": "name 'TicTacToe' is not defined",
     "output_type": "error",
     "traceback": [
      "\u001b[0;31m---------------------------------------------------------------------------\u001b[0m",
      "\u001b[0;31mNameError\u001b[0m                                 Traceback (most recent call last)",
      "Cell \u001b[0;32mIn[1], line 1\u001b[0m\n\u001b[0;32m----> 1\u001b[0m b \u001b[38;5;241m=\u001b[39m \u001b[43mTicTacToe\u001b[49m((\u001b[38;5;241m6\u001b[39m,\u001b[38;5;241m7\u001b[39m))\n",
      "\u001b[0;31mNameError\u001b[0m: name 'TicTacToe' is not defined"
     ]
    }
   ],
   "source": [
    "b = Board((6,7))"
   ]
  },
  {
   "cell_type": "markdown",
   "metadata": {},
   "source": [
    "#### **P1.2:** La dinámica del juego es la siguiente:  \n",
    "a) El usuario selecciona $\\text{'X'}$ u $\\text{'O'}$\n",
    "\n",
    "b) Siempre inicia el juego $\\text{'X'}$ (MAX)\n",
    "\n",
    "c) Llevar a cabo el juego entre agente y usuario.\n",
    "\n",
    "d) Desplegar el estado de juego a cada paso (movimiento).\n",
    "\n",
    "e) Desplegar resultado final (ganador o empate)."
   ]
  },
  {
   "cell_type": "markdown",
   "metadata": {},
   "source": [
    "#### **P1.3:** Implementar las siguientes funciones del agente:"
   ]
  },
  {
   "cell_type": "markdown",
   "metadata": {},
   "source": [
    "`initial_state()`: el estado inicial, $S_{0}$, especifica la configuración  \n",
    "inicial del juego (en nuestro caso, un tablero vacío de $6 \\times 7$).\n",
    "\n",
    "`display(s)`: función para desplegar la inforamción del tablero  \n",
    "(estado actual) en forma gráfica utilizando: Matplotlib, Pygame, Tkinter, OpenCV.\n",
    "\n",
    "`player(s)`: regresa a que jugador ($X\\;\\text{u}\\;O$) le toca mover dado el estado `s`.\n",
    "\n",
    "`actions(s)`: regresa un conjunto de acciones legales (qué lugares   \n",
    "están libres en el tablero) dado el estado `s`.\n",
    "\n",
    "`result(s,a)`: el modelo de transición, función que regresa  \n",
    "el estado reusltante de tomar la acción `a` en el estado `s`.\n",
    "\n",
    "`terminal(s)`: la prueba de terminación es verdadera (`True`) cuando el  \n",
    "juego termina (es decir, verificar si alguien ganó o hay empate) y es   \n",
    "falsa (`False`) en caso contrario. El estado `s` donde termina el juego   \n",
    "es llamado estado terminal.\n",
    "\n",
    "`utility(s)`: la función de utilidad (también llamada función objetivo)  \n",
    "define el valor numérico final para el jugador cuando el juego terminal  \n",
    "en el estado terminal `s`. Devuelve el valor de utilidad del estado: -1, 0 o 1.\n",
    "\n",
    "`minimax(s)`: Optimizado con `alpha-beta pruning`, función que regresa  \n",
    "el valor (movimiento)óptimo dependiendo a que jugador $(X \\;\\text{u} \\; O)$   \n",
    "le toca mover el estado.  "
   ]
  }
 ],
 "metadata": {
  "kernelspec": {
   "display_name": "venv",
   "language": "python",
   "name": "python3"
  },
  "language_info": {
   "codemirror_mode": {
    "name": "ipython",
    "version": 3
   },
   "file_extension": ".py",
   "mimetype": "text/x-python",
   "name": "python",
   "nbconvert_exporter": "python",
   "pygments_lexer": "ipython3",
   "version": "3.11.5"
  }
 },
 "nbformat": 4,
 "nbformat_minor": 2
}
