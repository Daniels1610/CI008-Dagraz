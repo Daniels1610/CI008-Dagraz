{
 "cells": [
  {
   "cell_type": "markdown",
   "metadata": {},
   "source": [
    "## E03 : Optimization (Alpha-Beta Pruning)"
   ]
  },
  {
   "cell_type": "code",
   "execution_count": 1,
   "metadata": {},
   "outputs": [],
   "source": [
    "import copy\n",
    "import math\n",
    "import numpy as np\n",
    "from classes.Game import Board\n",
    "from IPython.display import display\n",
    "from classes.players.HumanPlayer import HumanPlayer\n",
    "from classes.players.SmartComputerPlayerC4 import SmartComputerPlayer\n",
    "from algos.alfabeta import alfabeta_it, minimax_it\n",
    "\n",
    "GAME_DIMS = (3,3)"
   ]
  },
  {
   "cell_type": "markdown",
   "metadata": {},
   "source": [
    "#### **E3.01** Aplicar `Alpha-Beta Pruning`"
   ]
  },
  {
   "cell_type": "markdown",
   "metadata": {},
   "source": [
    "- Aplicar Alpha-Beta Pruning al siguiente árbol e identificar la decisión minimax, así como las ramas que no se requieren evaluar.    \n",
    "<img src='../imgs/e3.01_tree.png' alt='Tree E3.01' width='400' height='auto'>\n"
   ]
  },
  {
   "cell_type": "markdown",
   "metadata": {},
   "source": [
    "**Solution:**  \n",
    "\n",
    "<img src=\"../imgs/e3.01_solved.png\" alt=\"Solved Tree E3.01\" width=400 height=250>"
   ]
  },
  {
   "cell_type": "markdown",
   "metadata": {},
   "source": [
    "#### **E3.02** Aplicar Alpha-Beta Pruning V2\n",
    "- Aplicar Alpha-Beta Pruning al siguiente árbol e identificar la decisión minimax, así como las ramas que no se requieren evaluar.     "
   ]
  },
  {
   "cell_type": "markdown",
   "metadata": {},
   "source": [
    "<img src='../imgs/e3.02_tree.png' alt='Tree E3.02' width='400' height='auto'>"
   ]
  },
  {
   "cell_type": "markdown",
   "metadata": {},
   "source": [
    "**Solution:**  \n",
    "\n",
    "<img src=\"../imgs/e3.02_solved.png\" alt=\"Solved Tree E3.02\" width=500 height=250>"
   ]
  },
  {
   "cell_type": "markdown",
   "metadata": {},
   "source": [
    "#### **E3.03:** Implementar algoritmo *Alfa-Beta Pruning*"
   ]
  },
  {
   "cell_type": "markdown",
   "metadata": {},
   "source": [
    "- Implementar en *Google Colab* el algoritmo *Alpha-Beta Pruning*\n",
    "\n",
    "- Solicitar al usuario el vector con los valores de los nodos terminales (hojas).\n",
    "\n",
    "- Desplegar el valor de utilidad resultante.\n",
    "\n",
    "- Probar con las siguientes entradas:\n",
    "    - El árbol que se muestra en la figura.\n",
    "    - El árbol que se muestra en el E3.01\n",
    "    - El árbol que se muestra en el E3.02"
   ]
  },
  {
   "cell_type": "code",
   "execution_count": null,
   "metadata": {},
   "outputs": [],
   "source": [
    "inputs = [[4,8,5,9,3,7,2,4,6],\n",
    "        [10,5,7,11,12,8,9,8,5,12,11,12,9,8,7,10],\n",
    "        [3,12,8,2,4,6,14,5,2]]\n",
    "\n",
    "def albe(terminals:np.ndarray, alpha, beta):\n",
    "    a = alpha; b = beta\n",
    "\n",
    "    order = 0\n",
    "    leaf_len = len(terminals)\n",
    "    for i in range(2, leaf_len):\n",
    "        if (len(terminals) % i == 0): order = i; break\n",
    "\n",
    "    levels = int(math.log(leaf_len, order))\n",
    "\n",
    "    for i in range(0, leaf_len, order):\n",
    "        val = terminals[0+i:order+i]\n",
    "        for j in val:\n",
    "            if (levels % 2 != 0): a = max(a , j) \n",
    "            else: b =  min(b, j)\n",
    "            if (a >= b): break\n",
    "        if (levels % 2 == 0):\n",
    "            if b >= a: a = b; b = beta\n",
    "        else:\n",
    "            if a <= b: b = a; a = alpha\n",
    "    return a\n",
    "\n",
    "\n",
    "if __name__ == \"__main__\":\n",
    "    for i in range(len(inputs)):\n",
    "        print(f\"Test Input #{i+1}\")\n",
    "        print(f\"{albe(inputs[i], -math.inf, math.inf)}\\n\")"
   ]
  },
  {
   "cell_type": "markdown",
   "metadata": {},
   "source": [
    "#### **E3.04**"
   ]
  },
  {
   "cell_type": "code",
   "execution_count": null,
   "metadata": {},
   "outputs": [],
   "source": [
    "b.init_state()"
   ]
  },
  {
   "cell_type": "code",
   "execution_count": null,
   "metadata": {},
   "outputs": [],
   "source": [
    "b = Board(GAME_DIMS)\n",
    "b = Board((3,3))\n",
    "b.set_state(np.array([[None,1,0],[0,1,None],[1,None,0]]))\n",
    "print(b.state)\n",
    "print(alfabeta_it(copy.deepcopy(b), 3, -math.inf, math.inf, 0, 0))"
   ]
  },
  {
   "cell_type": "code",
   "execution_count": null,
   "metadata": {},
   "outputs": [],
   "source": [
    "bb.init_state()"
   ]
  },
  {
   "cell_type": "code",
   "execution_count": null,
   "metadata": {},
   "outputs": [],
   "source": [
    "bb = Board(GAME_DIMS)\n",
    "bb = Board((3,3))\n",
    "bb.set_state(np.array([[None,1,0],[0,1,None],[1,None,0]]))\n",
    "print(bb.state)\n",
    "print(minimax_it(copy.deepcopy(bb), 3, 0, 0))"
   ]
  },
  {
   "cell_type": "markdown",
   "metadata": {},
   "source": [
    "#### **E3.05:** Sustituir función minimax(s) por alpha_beta_search(s)\n",
    "1) En su implementación completa en Google Colab del juego de Tic-Tac-Toe sustituir la función `minimax(s)` por la versión optimizada `alpha_beta_search(s)`.\n",
    "\n",
    "2) La dinámica del juego es la siguiente:  \n",
    "    a) El usuario selecciona 'X' u 'O'.  \n",
    "    b) Siempre inicia el juego 'X' (MAX).    \n",
    "    c) Llevar a cabo el juego entre agente y usuario.  \n",
    "    d) Desplegar el estado de juego a cada paso (movimiento)  \n",
    "    e) Desplegar resultado final (ganador o empate)  "
   ]
  },
  {
   "cell_type": "code",
   "execution_count": 2,
   "metadata": {},
   "outputs": [],
   "source": [
    "def play(game:Board, x_player, o_player):\n",
    "    while (np.any(game.state == None) and not game.is_terminal()):\n",
    "        # Gets Player X/O move\n",
    "        move = x_player.get_move(game) if game.player() == 'X' else o_player.get_move(game)\n",
    "        game.make_move(move)\n",
    "    \n",
    "        print(f\"{game.state}\\n\")\n",
    "        game.update_board(move)\n",
    "        display(game.board)\n",
    "    winner = game.winner()\n",
    "    if winner == 'X': print(f\"PLAYER {x_player.letter} HAS WON!!\")\n",
    "    elif winner == 'O': print(f\"PLAYER {o_player.letter} HAS WON!!\")\n",
    "    else: print(f\"GAME ENDED IN A DRAW!\")\n",
    "    game.init_state()"
   ]
  },
  {
   "cell_type": "code",
   "execution_count": 4,
   "metadata": {},
   "outputs": [
    {
     "name": "stdout",
     "output_type": "stream",
     "text": [
      "Welcome to Tic-Tac-Toe Game!!\n",
      "Minimax played: [2 2]\n",
      "\n",
      "[[None None None]\n",
      " [None None None]\n",
      " [None None 1]]\n",
      "\n"
     ]
    },
    {
     "data": {
      "image/png": "[encoded data removed]",
      "text/plain": [
       "<Figure size 640x480 with 1 Axes>"
      ]
     },
     "metadata": {},
     "output_type": "display_data"
    },
    {
     "name": "stdout",
     "output_type": "stream",
     "text": [
      "[[None None None]\n",
      " [None None None]\n",
      " [0 None 1]]\n",
      "\n"
     ]
    },
    {
     "data": {
      "image/png": "[encoded data removed]",
      "text/plain": [
       "<Figure size 640x480 with 1 Axes>"
      ]
     },
     "metadata": {},
     "output_type": "display_data"
    },
    {
     "name": "stdout",
     "output_type": "stream",
     "text": [
      "Alfa-Beta played: [0 0]\n",
      "\n",
      "Move Utility: False\n",
      "\n",
      "ITERATIONS TO FIND BEST MOVE: 259\n",
      "RECURSIONS MADE: 49\n",
      "[[1 None None]\n",
      " [None None None]\n",
      " [0 None 1]]\n",
      "\n"
     ]
    },
    {
     "data": {
      "image/png": "[encoded data removed]",
      "text/plain": [
       "<Figure size 640x480 with 1 Axes>"
      ]
     },
     "metadata": {},
     "output_type": "display_data"
    },
    {
     "name": "stdout",
     "output_type": "stream",
     "text": [
      "[[1 None None]\n",
      " [None 0 None]\n",
      " [0 None 1]]\n",
      "\n"
     ]
    },
    {
     "data": {
      "image/png": "[encoded data removed]",
      "text/plain": [
       "<Figure size 640x480 with 1 Axes>"
      ]
     },
     "metadata": {},
     "output_type": "display_data"
    },
    {
     "name": "stdout",
     "output_type": "stream",
     "text": [
      "Alfa-Beta played: [0 2]\n",
      "\n",
      "Move Utility: 1\n",
      "\n",
      "ITERATIONS TO FIND BEST MOVE: 73\n",
      "RECURSIONS MADE: 21\n",
      "[[1 None 1]\n",
      " [None 0 None]\n",
      " [0 None 1]]\n",
      "\n"
     ]
    },
    {
     "data": {
      "image/png": "[encoded data removed]",
      "text/plain": [
       "<Figure size 640x480 with 1 Axes>"
      ]
     },
     "metadata": {},
     "output_type": "display_data"
    },
    {
     "name": "stdout",
     "output_type": "stream",
     "text": [
      "[[1 0 1]\n",
      " [None 0 None]\n",
      " [0 None 1]]\n",
      "\n"
     ]
    },
    {
     "data": {
      "image/png": "[encoded data removed]",
      "text/plain": [
       "<Figure size 640x480 with 1 Axes>"
      ]
     },
     "metadata": {},
     "output_type": "display_data"
    },
    {
     "name": "stdout",
     "output_type": "stream",
     "text": [
      "Alfa-Beta played: [1 2]\n",
      "\n",
      "Move Utility: 1\n",
      "\n",
      "ITERATIONS TO FIND BEST MOVE: 10\n",
      "RECURSIONS MADE: 5\n",
      "[[1 0 1]\n",
      " [None 0 1]\n",
      " [0 None 1]]\n",
      "\n"
     ]
    },
    {
     "data": {
      "image/png": "[encoded data removed]",
      "text/plain": [
       "<Figure size 640x480 with 1 Axes>"
      ]
     },
     "metadata": {},
     "output_type": "display_data"
    },
    {
     "name": "stdout",
     "output_type": "stream",
     "text": [
      "PLAYER X HAS WON!!\n"
     ]
    }
   ],
   "source": [
    "print(\"Welcome to Tic-Tac-Toe Game!!\")\n",
    "human_player = input(\"Select your Player X/O: \")\n",
    "t = Board(GAME_DIMS)\n",
    "x_player = HumanPlayer('X') if human_player == 'X' else SmartComputerPlayer('X')\n",
    "o_player = HumanPlayer('O') if human_player == 'O' else SmartComputerPlayer('O')\n",
    "\n",
    "play(t, x_player, o_player)"
   ]
  }
 ],
 "metadata": {
  "kernelspec": {
   "display_name": "venv",
   "language": "python",
   "name": "python3"
  },
  "language_info": {
   "codemirror_mode": {
    "name": "ipython",
    "version": 3
   },
   "file_extension": ".py",
   "mimetype": "text/x-python",
   "name": "python",
   "nbconvert_exporter": "python",
   "pygments_lexer": "ipython3",
   "version": "3.11.5"
  }
 },
 "nbformat": 4,
 "nbformat_minor": 2
}
