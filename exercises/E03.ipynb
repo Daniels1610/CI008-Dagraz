{
 "cells": [
  {
   "cell_type": "markdown",
   "metadata": {},
   "source": [
    "## E03 : Optimization (Alpha-Beta Pruning)"
   ]
  },
  {
   "cell_type": "code",
   "execution_count": 1,
   "metadata": {},
   "outputs": [],
   "source": [
    "import math\n",
    "import numpy as np"
   ]
  },
  {
   "cell_type": "markdown",
   "metadata": {},
   "source": [
    "#### **E3.01** Aplicar `Alpha-Beta Pruning`"
   ]
  },
  {
   "cell_type": "markdown",
   "metadata": {},
   "source": [
    "- Aplicar Alpha-Beta Pruning al siguiente árbol e identificar la decisión minimax, así como las ramas que no se requieren evaluar.    \n",
    "<img src='../imgs/e3.01_tree.png' alt='Tree E3.01' width='400' height='auto'>\n"
   ]
  },
  {
   "cell_type": "markdown",
   "metadata": {},
   "source": [
    "**Solution:**  \n",
    "\n",
    "<img src=\"../imgs/e3.01_solved.png\" alt=\"Solved Tree E3.01\" width=400 height=250>"
   ]
  },
  {
   "cell_type": "markdown",
   "metadata": {},
   "source": [
    "#### **E3.02** Aplicar Alpha-Beta Pruning V2\n",
    "- Aplicar Alpha-Beta Pruning al siguiente árbol e identificar la decisión minimax, así como las ramas que no se requieren evaluar.     "
   ]
  },
  {
   "cell_type": "markdown",
   "metadata": {},
   "source": [
    "<img src='../imgs/e3.02_tree.png' alt='Tree E3.02' width='400' height='auto'>"
   ]
  },
  {
   "cell_type": "markdown",
   "metadata": {},
   "source": [
    "**Solution:**  \n",
    "\n",
    "<img src=\"../imgs/e3.02_solved.png\" alt=\"Solved Tree E3.02\" width=500 height=250>"
   ]
  },
  {
   "cell_type": "markdown",
   "metadata": {},
   "source": [
    "#### **E3.03:** Implementar algoritmo *Alfa-Beta Pruning*"
   ]
  },
  {
   "cell_type": "markdown",
   "metadata": {},
   "source": [
    "- Implementar en *Google Colab* el algoritmo *Alpha-Beta Pruning*\n",
    "\n",
    "- Solicitar al usuario el vector con los valores de los nodos terminales (hojas).\n",
    "\n",
    "- Desplegar el valor de utilidad resultante.\n",
    "\n",
    "- Probar con las siguientes entradas:\n",
    "    - El árbol que se muestra en la figura.\n",
    "    - El árbol que se muestra en el E3.01\n",
    "    - El árbol que se muestra en el E3.02"
   ]
  },
  {
   "cell_type": "code",
   "execution_count": 30,
   "metadata": {},
   "outputs": [
    {
     "name": "stdout",
     "output_type": "stream",
     "text": [
      "Test Input #1\n"
     ]
    },
    {
     "name": "stdout",
     "output_type": "stream",
     "text": [
      "4\n",
      "\n",
      "Test Input #2\n",
      "8\n",
      "\n",
      "Test Input #3\n",
      "3\n",
      "\n"
     ]
    }
   ],
   "source": [
    "inputs = [[4,8,5,9,3,7,2,4,6],\n",
    "        [10,5,7,11,12,8,9,8,5,12,11,12,9,8,7,10],\n",
    "        [3,12,8,2,4,6,14,5,2]]\n",
    "\n",
    "def albe(terminals:np.ndarray, alpha, beta):\n",
    "    a = alpha; b = beta\n",
    "\n",
    "    order = 0\n",
    "    leaf_len = len(terminals)\n",
    "    for i in range(2, leaf_len):\n",
    "        if (len(terminals) % i == 0): order = i; break\n",
    "\n",
    "    levels = int(math.log(leaf_len, order))\n",
    "\n",
    "    for i in range(0, leaf_len, order):\n",
    "        val = terminals[0+i:order+i]\n",
    "        for j in val:\n",
    "            if (levels % 2 != 0): a = max(a , j) \n",
    "            else: b =  min(b, j)\n",
    "            if (a >= b): break\n",
    "        if (levels % 2 == 0):\n",
    "            if b >= a: a = b; b = beta\n",
    "        else:\n",
    "            if a <= b: b = a; a = alpha\n",
    "    return a\n",
    "\n",
    "\n",
    "if __name__ == \"__main__\":\n",
    "    for i in range(len(inputs)):\n",
    "        print(f\"Test Input #{i+1}\")\n",
    "        print(f\"{albe(inputs[i], -math.inf, math.inf)}\\n\")"
   ]
  }
 ],
 "metadata": {
  "kernelspec": {
   "display_name": "venv",
   "language": "python",
   "name": "python3"
  },
  "language_info": {
   "codemirror_mode": {
    "name": "ipython",
    "version": 3
   },
   "file_extension": ".py",
   "mimetype": "text/x-python",
   "name": "python",
   "nbconvert_exporter": "python",
   "pygments_lexer": "ipython3",
   "version": "3.11.5"
  }
 },
 "nbformat": 4,
 "nbformat_minor": 2
}
