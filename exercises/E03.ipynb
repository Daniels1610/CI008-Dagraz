{
 "cells": [
  {
   "cell_type": "markdown",
   "metadata": {},
   "source": [
    "## E03 : Optimization (Alpha-Beta Pruning)"
   ]
  },
  {
   "cell_type": "code",
   "execution_count": 1,
   "metadata": {},
   "outputs": [],
   "source": [
    "import numpy as np"
   ]
  },
  {
   "cell_type": "markdown",
   "metadata": {},
   "source": [
    "#### **E3.01** Aplicar `Alpha-Beta Pruning`"
   ]
  },
  {
   "cell_type": "markdown",
   "metadata": {},
   "source": [
    "- Aplicar Alpha-Beta Pruning al siguiente árbol e identificar la decisión minimax, así como las ramas que no se requieren evaluar.    \n",
    "<img src='../imgs/e3.01_tree.png' alt='Tree E3.01' width='400' height='auto'>\n"
   ]
  },
  {
   "cell_type": "markdown",
   "metadata": {},
   "source": [
    "**Solution:**  \n",
    "\n",
    "<img src=\"../imgs/e3.01_solved.png\" alt=\"Solved Tree E3.01\" width=400 height=250>"
   ]
  },
  {
   "cell_type": "markdown",
   "metadata": {},
   "source": [
    "#### **E3.02** Aplicar Alpha-Beta Pruning V2\n",
    "- Aplicar Alpha-Beta Pruning al siguiente árbol e identificar la decisión minimax, así como las ramas que no se requieren evaluar.     "
   ]
  },
  {
   "cell_type": "markdown",
   "metadata": {},
   "source": [
    "<img src='../imgs/e3.02_tree.png' alt='Tree E3.02' width='400' height='auto'>"
   ]
  },
  {
   "cell_type": "markdown",
   "metadata": {},
   "source": [
    "**Solution:**  \n",
    "\n",
    "<img src=\"../imgs/e3.02_solved.png\" alt=\"Solved Tree E3.02\" width=500 height=250>"
   ]
  },
  {
   "cell_type": "markdown",
   "metadata": {},
   "source": [
    "#### **E3.03:** Implementar algoritmo *Alfa-Beta Pruning*"
   ]
  },
  {
   "cell_type": "markdown",
   "metadata": {},
   "source": [
    "- Implementar en *Google Colab* el algoritmo *Alpha-Beta Pruning*\n",
    "\n",
    "- Solicitar al usuario el vector con los valores de los nodos terminales (hojas).\n",
    "\n",
    "- Desplegar el valor de utilidad resultante.\n",
    "\n",
    "- Probar con las siguientes entradas:\n",
    "    - El árbol que se muestra en la figura.\n",
    "    - El árbol que se muestra en el E3.01\n",
    "    - El árbol que se muestra en el E3.02"
   ]
  }
 ],
 "metadata": {
  "kernelspec": {
   "display_name": "venv",
   "language": "python",
   "name": "python3"
  },
  "language_info": {
   "codemirror_mode": {
    "name": "ipython",
    "version": 3
   },
   "file_extension": ".py",
   "mimetype": "text/x-python",
   "name": "python",
   "nbconvert_exporter": "python",
   "pygments_lexer": "ipython3",
   "version": "3.11.5"
  }
 },
 "nbformat": 4,
 "nbformat_minor": 2
}
